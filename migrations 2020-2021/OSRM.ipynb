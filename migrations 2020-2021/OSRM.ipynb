{
 "cells": [
  {
   "cell_type": "markdown",
   "metadata": {},
   "source": [
    "https://github.com/ustroetz/python-osrm"
   ]
  },
  {
   "cell_type": "markdown",
   "metadata": {},
   "source": [
    "OSMR API documentation: http://project-osrm.org/docs/v5.24.0/api/?language=cURL#\n",
    "\n",
    "Выжимка:\n",
    "\n",
    "**Выбирается самый быстрый путь, а не минимальное расстояние между двумя координатами!**\n",
    "\n",
    "**Расстояние указывается в метрах**\n",
    "\n",
    "**Open Source OSMR API поддерживает только пути для машин. Есть попытаться указать другие опции, результат тот же.**\n",
    "\n",
    "**route** — посчитает путь со всеми указанными координатами.\n",
    "\n",
    "options:\n",
    "    * skip_waypoints=true — не будет выводить информацию об указанных координатах. Позволяет экономить место;\n",
    "    * alternatives=n — показать альтернативные пути;\n",
    "    * geometries=geojson — возвращает список пар координат для построения пути;\n",
    "    * overview=full — полный, simplified — не подробный, уменьшает количество пар координат, false — без геометрии;\n",
    "\n",
    "response:\n",
    "    * code — обозначает успешность запроса (200 успешно, 400 — ошибка);\n",
    "    * waypoints — точки на пути, исчезнут при skip_waypoints=true;\n",
    "    * routes — пути, отранжированные от самого быстрого к самому медленному.\n",
    "\n",
    "**table** — посчитает пути между всеми парами координат, переданными в запрос.\n",
    "\n",
    "options:\n",
    "    * skip_waypoints=true — не будет выводить информацию об указанных координатах. Позволяет экономить место, но также обнулит sources и destinations;\n",
    "    * sources — координаты, используемые в качестве отправной точки, вернутся в качестве waypoint объекта\n",
    "    * destinations — координаты, используемые в качестве пункта назначения, вернутся в качестве waypoint объекта\n",
    "    * annotations — duration (default), distance , or duration,distance — что возвращается;\n",
    "    * fallback_speed — в случае, если между точкам не удается найти путь, будет посчитано кратчайшее расстояние, для которого необходимо указать скорость.\n",
    "\n",
    "response:\n",
    "    * code\n",
    "    * durations — null, если путь не удалось построить;\n",
    "    * distances — null, если путь не удалось построить;\n",
    "    * sources\n",
    "    * destinations\n",
    "    * fallback_speed_cells — если был использован fallback_speed, то вернется массив, указывающий, какие пары были рассчитаны подобным образом.\n",
    "    \n",
    "Макет ссылки:\n",
    "\n",
    "http://router.project-osrm.org/route/v1/driving/59.98259700478887,30.4297523923562;55.75269662241035,37.64085841204411?overview=false"
   ]
  },
  {
   "cell_type": "code",
   "execution_count": 17,
   "metadata": {},
   "outputs": [],
   "source": [
    "import requests\n",
    "import json\n",
    "import folium"
   ]
  },
  {
   "cell_type": "code",
   "execution_count": 50,
   "metadata": {},
   "outputs": [],
   "source": [
    "response = requests.get('http://router.project-osrm.org/route/v1/driving/59.98259700478887,30.4297523923562;55.75269662241035,37.64085841204411?overview=simplified&geometries=geojson')"
   ]
  },
  {
   "cell_type": "code",
   "execution_count": 51,
   "metadata": {},
   "outputs": [],
   "source": [
    "route = json.loads(response.text)"
   ]
  },
  {
   "cell_type": "code",
   "execution_count": 75,
   "metadata": {
    "scrolled": true
   },
   "outputs": [
    {
     "data": {
      "text/plain": [
       "[[60.069109, 30.413012],\n",
       " [60.465952, 29.806406],\n",
       " [60.819307, 29.56304],\n",
       " [60.842607, 30.55827],\n",
       " [60.05774, 31.52117],\n",
       " [60.065085, 31.765116],\n",
       " [59.827911, 32.066506],\n",
       " [59.782394, 32.621947],\n",
       " [59.247207, 32.897106],\n",
       " [59.303573, 33.048077],\n",
       " [59.279291, 33.278319],\n",
       " [59.169153, 33.417222],\n",
       " [59.192266, 33.708848],\n",
       " [59.113299, 33.849785],\n",
       " [58.834977, 33.923343],\n",
       " [58.784619, 34.325181],\n",
       " [58.677108, 34.388643],\n",
       " [58.853752, 34.780219],\n",
       " [58.840263, 34.996685],\n",
       " [59.268687, 35.268877],\n",
       " [59.178742, 35.507834],\n",
       " [59.260419, 35.775053],\n",
       " [59.403036, 35.823299],\n",
       " [59.427114, 35.937947],\n",
       " [59.679679, 36.011124],\n",
       " [59.72371, 36.127514],\n",
       " [59.516989, 36.386918],\n",
       " [58.022246, 37.380988],\n",
       " [57.50293, 37.517831],\n",
       " [57.343914, 37.466313],\n",
       " [56.713674, 37.587558],\n",
       " [56.373233, 37.73668],\n",
       " [56.174106, 37.63983],\n",
       " [55.751698, 37.649059]]"
      ]
     },
     "execution_count": 75,
     "metadata": {},
     "output_type": "execute_result"
    }
   ],
   "source": [
    "route['routes'][0]['geometry']['coordinates']"
   ]
  },
  {
   "cell_type": "code",
   "execution_count": 79,
   "metadata": {},
   "outputs": [
    {
     "data": {
      "text/plain": [
       "1501412.4"
      ]
     },
     "execution_count": 79,
     "metadata": {},
     "output_type": "execute_result"
    }
   ],
   "source": [
    "route['routes'][0]['distance']"
   ]
  },
  {
   "cell_type": "code",
   "execution_count": 53,
   "metadata": {},
   "outputs": [],
   "source": [
    "r = route['routes'][0]['geometry']['coordinates']"
   ]
  },
  {
   "cell_type": "code",
   "execution_count": 54,
   "metadata": {},
   "outputs": [],
   "source": [
    "m = folium.Map(location=[59.98259700478887,30.4297523923562],\n",
    "              zoom_start=5)"
   ]
  },
  {
   "cell_type": "code",
   "execution_count": 55,
   "metadata": {},
   "outputs": [
    {
     "data": {
      "text/plain": [
       "<folium.vector_layers.PolyLine at 0x2d3a8683040>"
      ]
     },
     "execution_count": 55,
     "metadata": {},
     "output_type": "execute_result"
    }
   ],
   "source": [
    "folium.PolyLine(r,\n",
    "                color='red',\n",
    "                weight=15,\n",
    "                opacity=0.8).add_to(m)"
   ]
  },
  {
   "cell_type": "code",
   "execution_count": 56,
   "metadata": {},
   "outputs": [
    {
     "data": {
      "text/html": [
       "<div style=\"width:100%;\"><div style=\"position:relative;width:100%;height:0;padding-bottom:60%;\"><span style=\"color:#565656\">Make this Notebook Trusted to load map: File -> Trust Notebook</span><iframe src=\"about:blank\" style=\"position:absolute;width:100%;height:100%;left:0;top:0;border:none !important;\" data-html=%3C%21DOCTYPE%20html%3E%0A%3Chead%3E%20%20%20%20%0A%20%20%20%20%3Cmeta%20http-equiv%3D%22content-type%22%20content%3D%22text/html%3B%20charset%3DUTF-8%22%20/%3E%0A%20%20%20%20%0A%20%20%20%20%20%20%20%20%3Cscript%3E%0A%20%20%20%20%20%20%20%20%20%20%20%20L_NO_TOUCH%20%3D%20false%3B%0A%20%20%20%20%20%20%20%20%20%20%20%20L_DISABLE_3D%20%3D%20false%3B%0A%20%20%20%20%20%20%20%20%3C/script%3E%0A%20%20%20%20%0A%20%20%20%20%3Cstyle%3Ehtml%2C%20body%20%7Bwidth%3A%20100%25%3Bheight%3A%20100%25%3Bmargin%3A%200%3Bpadding%3A%200%3B%7D%3C/style%3E%0A%20%20%20%20%3Cstyle%3E%23map%20%7Bposition%3Aabsolute%3Btop%3A0%3Bbottom%3A0%3Bright%3A0%3Bleft%3A0%3B%7D%3C/style%3E%0A%20%20%20%20%3Cscript%20src%3D%22https%3A//cdn.jsdelivr.net/npm/leaflet%401.6.0/dist/leaflet.js%22%3E%3C/script%3E%0A%20%20%20%20%3Cscript%20src%3D%22https%3A//code.jquery.com/jquery-1.12.4.min.js%22%3E%3C/script%3E%0A%20%20%20%20%3Cscript%20src%3D%22https%3A//maxcdn.bootstrapcdn.com/bootstrap/3.2.0/js/bootstrap.min.js%22%3E%3C/script%3E%0A%20%20%20%20%3Cscript%20src%3D%22https%3A//cdnjs.cloudflare.com/ajax/libs/Leaflet.awesome-markers/2.0.2/leaflet.awesome-markers.js%22%3E%3C/script%3E%0A%20%20%20%20%3Clink%20rel%3D%22stylesheet%22%20href%3D%22https%3A//cdn.jsdelivr.net/npm/leaflet%401.6.0/dist/leaflet.css%22/%3E%0A%20%20%20%20%3Clink%20rel%3D%22stylesheet%22%20href%3D%22https%3A//maxcdn.bootstrapcdn.com/bootstrap/3.2.0/css/bootstrap.min.css%22/%3E%0A%20%20%20%20%3Clink%20rel%3D%22stylesheet%22%20href%3D%22https%3A//maxcdn.bootstrapcdn.com/bootstrap/3.2.0/css/bootstrap-theme.min.css%22/%3E%0A%20%20%20%20%3Clink%20rel%3D%22stylesheet%22%20href%3D%22https%3A//maxcdn.bootstrapcdn.com/font-awesome/4.6.3/css/font-awesome.min.css%22/%3E%0A%20%20%20%20%3Clink%20rel%3D%22stylesheet%22%20href%3D%22https%3A//cdnjs.cloudflare.com/ajax/libs/Leaflet.awesome-markers/2.0.2/leaflet.awesome-markers.css%22/%3E%0A%20%20%20%20%3Clink%20rel%3D%22stylesheet%22%20href%3D%22https%3A//cdn.jsdelivr.net/gh/python-visualization/folium/folium/templates/leaflet.awesome.rotate.min.css%22/%3E%0A%20%20%20%20%0A%20%20%20%20%20%20%20%20%20%20%20%20%3Cmeta%20name%3D%22viewport%22%20content%3D%22width%3Ddevice-width%2C%0A%20%20%20%20%20%20%20%20%20%20%20%20%20%20%20%20initial-scale%3D1.0%2C%20maximum-scale%3D1.0%2C%20user-scalable%3Dno%22%20/%3E%0A%20%20%20%20%20%20%20%20%20%20%20%20%3Cstyle%3E%0A%20%20%20%20%20%20%20%20%20%20%20%20%20%20%20%20%23map_6e684d70ff9743c69766a39b2fc0c933%20%7B%0A%20%20%20%20%20%20%20%20%20%20%20%20%20%20%20%20%20%20%20%20position%3A%20relative%3B%0A%20%20%20%20%20%20%20%20%20%20%20%20%20%20%20%20%20%20%20%20width%3A%20100.0%25%3B%0A%20%20%20%20%20%20%20%20%20%20%20%20%20%20%20%20%20%20%20%20height%3A%20100.0%25%3B%0A%20%20%20%20%20%20%20%20%20%20%20%20%20%20%20%20%20%20%20%20left%3A%200.0%25%3B%0A%20%20%20%20%20%20%20%20%20%20%20%20%20%20%20%20%20%20%20%20top%3A%200.0%25%3B%0A%20%20%20%20%20%20%20%20%20%20%20%20%20%20%20%20%7D%0A%20%20%20%20%20%20%20%20%20%20%20%20%3C/style%3E%0A%20%20%20%20%20%20%20%20%0A%3C/head%3E%0A%3Cbody%3E%20%20%20%20%0A%20%20%20%20%0A%20%20%20%20%20%20%20%20%20%20%20%20%3Cdiv%20class%3D%22folium-map%22%20id%3D%22map_6e684d70ff9743c69766a39b2fc0c933%22%20%3E%3C/div%3E%0A%20%20%20%20%20%20%20%20%0A%3C/body%3E%0A%3Cscript%3E%20%20%20%20%0A%20%20%20%20%0A%20%20%20%20%20%20%20%20%20%20%20%20var%20map_6e684d70ff9743c69766a39b2fc0c933%20%3D%20L.map%28%0A%20%20%20%20%20%20%20%20%20%20%20%20%20%20%20%20%22map_6e684d70ff9743c69766a39b2fc0c933%22%2C%0A%20%20%20%20%20%20%20%20%20%20%20%20%20%20%20%20%7B%0A%20%20%20%20%20%20%20%20%20%20%20%20%20%20%20%20%20%20%20%20center%3A%20%5B59.98259700478887%2C%2030.4297523923562%5D%2C%0A%20%20%20%20%20%20%20%20%20%20%20%20%20%20%20%20%20%20%20%20crs%3A%20L.CRS.EPSG3857%2C%0A%20%20%20%20%20%20%20%20%20%20%20%20%20%20%20%20%20%20%20%20zoom%3A%205%2C%0A%20%20%20%20%20%20%20%20%20%20%20%20%20%20%20%20%20%20%20%20zoomControl%3A%20true%2C%0A%20%20%20%20%20%20%20%20%20%20%20%20%20%20%20%20%20%20%20%20preferCanvas%3A%20false%2C%0A%20%20%20%20%20%20%20%20%20%20%20%20%20%20%20%20%7D%0A%20%20%20%20%20%20%20%20%20%20%20%20%29%3B%0A%0A%20%20%20%20%20%20%20%20%20%20%20%20%0A%0A%20%20%20%20%20%20%20%20%0A%20%20%20%20%0A%20%20%20%20%20%20%20%20%20%20%20%20var%20tile_layer_a7d568ff0b6b4ff9b5dc3d99d19ddd34%20%3D%20L.tileLayer%28%0A%20%20%20%20%20%20%20%20%20%20%20%20%20%20%20%20%22https%3A//%7Bs%7D.tile.openstreetmap.org/%7Bz%7D/%7Bx%7D/%7By%7D.png%22%2C%0A%20%20%20%20%20%20%20%20%20%20%20%20%20%20%20%20%7B%22attribution%22%3A%20%22Data%20by%20%5Cu0026copy%3B%20%5Cu003ca%20href%3D%5C%22http%3A//openstreetmap.org%5C%22%5Cu003eOpenStreetMap%5Cu003c/a%5Cu003e%2C%20under%20%5Cu003ca%20href%3D%5C%22http%3A//www.openstreetmap.org/copyright%5C%22%5Cu003eODbL%5Cu003c/a%5Cu003e.%22%2C%20%22detectRetina%22%3A%20false%2C%20%22maxNativeZoom%22%3A%2018%2C%20%22maxZoom%22%3A%2018%2C%20%22minZoom%22%3A%200%2C%20%22noWrap%22%3A%20false%2C%20%22opacity%22%3A%201%2C%20%22subdomains%22%3A%20%22abc%22%2C%20%22tms%22%3A%20false%7D%0A%20%20%20%20%20%20%20%20%20%20%20%20%29.addTo%28map_6e684d70ff9743c69766a39b2fc0c933%29%3B%0A%20%20%20%20%20%20%20%20%0A%20%20%20%20%0A%20%20%20%20%20%20%20%20%20%20%20%20var%20poly_line_b94ee82ce0584ab58a5db360b8f2445e%20%3D%20L.polyline%28%0A%20%20%20%20%20%20%20%20%20%20%20%20%20%20%20%20%5B%5B60.069109%2C%2030.413012%5D%2C%20%5B60.465952%2C%2029.806406%5D%2C%20%5B60.819307%2C%2029.56304%5D%2C%20%5B60.842607%2C%2030.55827%5D%2C%20%5B60.05774%2C%2031.52117%5D%2C%20%5B60.065085%2C%2031.765116%5D%2C%20%5B59.827911%2C%2032.066506%5D%2C%20%5B59.782394%2C%2032.621947%5D%2C%20%5B59.247207%2C%2032.897106%5D%2C%20%5B59.303573%2C%2033.048077%5D%2C%20%5B59.279291%2C%2033.278319%5D%2C%20%5B59.169153%2C%2033.417222%5D%2C%20%5B59.192266%2C%2033.708848%5D%2C%20%5B59.113299%2C%2033.849785%5D%2C%20%5B58.834977%2C%2033.923343%5D%2C%20%5B58.784619%2C%2034.325181%5D%2C%20%5B58.677108%2C%2034.388643%5D%2C%20%5B58.853752%2C%2034.780219%5D%2C%20%5B58.840263%2C%2034.996685%5D%2C%20%5B59.268687%2C%2035.268877%5D%2C%20%5B59.178742%2C%2035.507834%5D%2C%20%5B59.260419%2C%2035.775053%5D%2C%20%5B59.403036%2C%2035.823299%5D%2C%20%5B59.427114%2C%2035.937947%5D%2C%20%5B59.679679%2C%2036.011124%5D%2C%20%5B59.72371%2C%2036.127514%5D%2C%20%5B59.516989%2C%2036.386918%5D%2C%20%5B58.022246%2C%2037.380988%5D%2C%20%5B57.50293%2C%2037.517831%5D%2C%20%5B57.343914%2C%2037.466313%5D%2C%20%5B56.713674%2C%2037.587558%5D%2C%20%5B56.373233%2C%2037.73668%5D%2C%20%5B56.174106%2C%2037.63983%5D%2C%20%5B55.751698%2C%2037.649059%5D%5D%2C%0A%20%20%20%20%20%20%20%20%20%20%20%20%20%20%20%20%7B%22bubblingMouseEvents%22%3A%20true%2C%20%22color%22%3A%20%22red%22%2C%20%22dashArray%22%3A%20null%2C%20%22dashOffset%22%3A%20null%2C%20%22fill%22%3A%20false%2C%20%22fillColor%22%3A%20%22red%22%2C%20%22fillOpacity%22%3A%200.2%2C%20%22fillRule%22%3A%20%22evenodd%22%2C%20%22lineCap%22%3A%20%22round%22%2C%20%22lineJoin%22%3A%20%22round%22%2C%20%22noClip%22%3A%20false%2C%20%22opacity%22%3A%200.8%2C%20%22smoothFactor%22%3A%201.0%2C%20%22stroke%22%3A%20true%2C%20%22weight%22%3A%2015%7D%0A%20%20%20%20%20%20%20%20%20%20%20%20%29.addTo%28map_6e684d70ff9743c69766a39b2fc0c933%29%3B%0A%20%20%20%20%20%20%20%20%0A%3C/script%3E onload=\"this.contentDocument.open();this.contentDocument.write(    decodeURIComponent(this.getAttribute('data-html')));this.contentDocument.close();\" allowfullscreen webkitallowfullscreen mozallowfullscreen></iframe></div></div>"
      ],
      "text/plain": [
       "<folium.folium.Map at 0x2d3a869a6d0>"
      ]
     },
     "execution_count": 56,
     "metadata": {},
     "output_type": "execute_result"
    }
   ],
   "source": [
    "m"
   ]
  },
  {
   "cell_type": "markdown",
   "metadata": {},
   "source": [
    "# Пробуем на датасете"
   ]
  },
  {
   "cell_type": "code",
   "execution_count": 21,
   "metadata": {},
   "outputs": [],
   "source": [
    "import psycopg2\n",
    "import numpy as np\n",
    "from scipy.cluster.hierarchy import fclusterdata\n",
    "from scipy.spatial.distance import pdist\n",
    "from math import pi, sin, cos, atan2\n",
    "import matplotlib.pyplot as plt\n",
    "import pandas as pd\n",
    "from itertools import combinations\n",
    "from tqdm import tqdm"
   ]
  },
  {
   "cell_type": "code",
   "execution_count": 2,
   "metadata": {},
   "outputs": [],
   "source": [
    "conn = psycopg2.connect(dbname='sociolinguistic', user='app', \n",
    "                        password='rfrfyl.babaloos', host='gisly.net')\n",
    "cursor = conn.cursor()"
   ]
  },
  {
   "cell_type": "code",
   "execution_count": 3,
   "metadata": {},
   "outputs": [],
   "source": [
    "cursor.execute(\"\"\" select place_born.longitude, place_born.latitude\n",
    "from sociolinguistic_place place_born\n",
    "where place_born.longitude is not null\n",
    "and place_born.latitude is not null\"\"\")"
   ]
  },
  {
   "cell_type": "code",
   "execution_count": 4,
   "metadata": {},
   "outputs": [],
   "source": [
    "X = np.array(cursor.fetchall())"
   ]
  },
  {
   "cell_type": "code",
   "execution_count": 5,
   "metadata": {},
   "outputs": [],
   "source": [
    "cursor.close()\n",
    "conn.close()"
   ]
  },
  {
   "cell_type": "code",
   "execution_count": 11,
   "metadata": {},
   "outputs": [
    {
     "data": {
      "text/plain": [
       "array([Decimal('141.837700'), Decimal('53.165500')], dtype=object)"
      ]
     },
     "execution_count": 11,
     "metadata": {},
     "output_type": "execute_result"
    }
   ],
   "source": [
    "X[0]"
   ]
  },
  {
   "cell_type": "code",
   "execution_count": 14,
   "metadata": {},
   "outputs": [],
   "source": [
    "table = list(combinations(X, 2))\n",
    "longitude_x = [x[0][0] for x in table]\n",
    "latitude_x = [x[0][1] for x in table]\n",
    "longitude_y = [x[1][0] for x in table]\n",
    "latitude_y = [x[1][1] for x in table]\n",
    "df = pd.DataFrame()\n",
    "df['longitude_x'] = longitude_x\n",
    "df['latitude_x'] = latitude_x\n",
    "df['longitude_y'] = longitude_y\n",
    "df['latitude_y'] = latitude_y\n",
    "df['distance'] = np.nan\n",
    "df['duration'] =  np.nan\n",
    "df['geometry'] = np.nan"
   ]
  },
  {
   "cell_type": "code",
   "execution_count": 20,
   "metadata": {},
   "outputs": [],
   "source": [
    "def calculate_dist(place1, place2):\n",
    "    place1 = str(place1[0]) + ',' + str(place1[1])\n",
    "    place2 = str(place2[0]) + ',' + str(place2[1])\n",
    "    try:\n",
    "        response = requests.get(\n",
    "            'http://router.project-osrm.org/route/v1/driving/{0};{1}?overview=simplified&geometries=geojson'.format(\n",
    "            place1, place2))\n",
    "        response = json.loads(response.text)\n",
    "        distance = response['routes'][0]['distance']\n",
    "        duration = response['routes'][0]['duration']\n",
    "        geometry = json.dumps(response['routes'][0]['geometry']['coordinates'])\n",
    "    except Exception as e:\n",
    "        distance = np.nan\n",
    "        duration = np.nan\n",
    "        geometry = np.nan\n",
    "    return distance, duration, geometry"
   ]
  },
  {
   "cell_type": "code",
   "execution_count": null,
   "metadata": {},
   "outputs": [
    {
     "name": "stderr",
     "output_type": "stream",
     "text": [
      "22043it [3:03:44,  1.98it/s]"
     ]
    }
   ],
   "source": [
    "for num, row in tqdm(df.iterrows()):\n",
    "    distance, duration, geometry = calculate_dist([row['longitude_x'], row['latitude_x']],\n",
    "                                                 [row['longitude_y'], row['latitude_y']])\n",
    "    df.loc[num, 'distance'] = distance\n",
    "    df.loc[num, 'duration'] = duration\n",
    "    df.loc[num, 'geometry'] = geometry"
   ]
  },
  {
   "cell_type": "code",
   "execution_count": null,
   "metadata": {},
   "outputs": [],
   "source": []
  }
 ],
 "metadata": {
  "kernelspec": {
   "display_name": "Python 3",
   "language": "python",
   "name": "python3"
  },
  "language_info": {
   "codemirror_mode": {
    "name": "ipython",
    "version": 3
   },
   "file_extension": ".py",
   "mimetype": "text/x-python",
   "name": "python",
   "nbconvert_exporter": "python",
   "pygments_lexer": "ipython3",
   "version": "3.8.3"
  }
 },
 "nbformat": 4,
 "nbformat_minor": 4
}
