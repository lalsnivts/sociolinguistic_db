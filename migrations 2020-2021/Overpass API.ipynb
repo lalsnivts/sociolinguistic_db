{
 "cells": [
  {
   "cell_type": "code",
   "execution_count": 1,
   "metadata": {},
   "outputs": [],
   "source": [
    "from OSMPythonTools.overpass import Overpass\n",
    "overpass = Overpass()"
   ]
  },
  {
   "cell_type": "markdown",
   "metadata": {},
   "source": [
    "Посмотреть на карту можно здесь: https://www.openstreetmap.org/#map=1/70/0\n",
    "\n",
    "Документация: https://wiki.openstreetmap.org/wiki/Overpass_API/Language_Guide#Background_and_concepts"
   ]
  },
  {
   "cell_type": "markdown",
   "metadata": {},
   "source": [
    "Существует три типа объектов:\n",
    " * node — узел (город, населенный пункт, страна)\n",
    " * way — путь\n",
    " * rel — relation, отношения между nodes\n",
    "\n",
    "Помимо них, есть area, который задается немного иначе синтаксически, но имеет название (например, страна, город) и выдает список всех имеющихся внутри или как-либо относящихся к области объектов. Объекты можно фильтровать как и при обычном запросе. Эти запросы не всегда содержат самую обновленную информацию, но через них доступ к большому кол-ву объектов, якобы, осуществляется быстрее. Area отличается от node тем, что последний, как формат данных, не включает в себя никакое множество объектов, только описывает этот, конкретный."
   ]
  },
  {
   "cell_type": "markdown",
   "metadata": {},
   "source": [
    "Запрос состоит минимум из двух частей:\n",
    "* отвечает за тип объектов, фильтры\n",
    "* отвечает за вывод и количество/тип информации о найденных объектах\n",
    "\n",
    "Пример представлен ниже. Части запроса разделяются точкой с запятой. Можно задавать несколько запросов первого типа и один для вывода, вернется объединение.\n",
    "После выполнения запроса нужно преобразовать результат в элементы."
   ]
  },
  {
   "cell_type": "code",
   "execution_count": 147,
   "metadata": {},
   "outputs": [],
   "source": [
    "result = overpass.query('node[\"name\"=\"Берлин\"];out body;')\n",
    "results = result.elements()"
   ]
  },
  {
   "cell_type": "code",
   "execution_count": 148,
   "metadata": {},
   "outputs": [
    {
     "data": {
      "text/plain": [
       "'Berlyn'"
      ]
     },
     "execution_count": 148,
     "metadata": {},
     "output_type": "execute_result"
    }
   ],
   "source": [
    "results[0].tag('name:en')"
   ]
  },
  {
   "cell_type": "markdown",
   "metadata": {},
   "source": [
    "## Tag request clauses (or \"tag filters\")\n",
    "\n",
    "  * [\"key\"]            /* filter objects tagged with this key and any value */\n",
    "  * [!\"key\"]           /* filter objects not tagged with this key and any value */\n",
    "  * [\"key\"=\"value\"]    /* filter objects tagged with this key and this value */\n",
    "  * [\"key\"!=\"value\"]   /* filter objects tagged with this key but not this value, or not tagged with this key */\n",
    "  * [\"key\"~\"value\"]    /* filter objects tagged with this key and a value matching a regular expression */\n",
    "  * [\"key\"!~\"value\"]   /* filter objects tagged with this key but a value not matching a regular expression */\n",
    "  * [\\~\"key\"~\"value\"]   /* filter objects tagged with a key and a value matching regular expressions */\n",
    "  * [\\~\"key\"~\"value\",i] /* filter objects tagged with a key and a case-insensitive value matching regular expressions */"
   ]
  },
  {
   "cell_type": "markdown",
   "metadata": {},
   "source": [
    "## Bounding box clauses (\"bbox query\", \"bounding box filter\")\n",
    "\n",
    "Bounding box clauses (like all other clauses for filters or recursion queries) can only be used as filters after specifying a main query type (or .resultset), they are not queries by themselves. In the Overpass QL syntax, they have a form like in this example:\n",
    "\n",
    "  /*your query here*/(51.0, 7.0, 52.0, 8.0)\n",
    "  \n",
    "Bounding box clauses always start with the lowest latitude (southernmost) followed by lowest longitude (westernmost), then highest latitude (northernmost) then highest longitude (easternmost). Note that this is different from the ordering in the XAPI syntax."
   ]
  },
  {
   "cell_type": "markdown",
   "metadata": {},
   "source": [
    "## Area clauses (\"area filters\")\n",
    "\n",
    "* are not directly OSM objects but a bunch of them located in one area\n",
    "* they are generated (and cached on the Overpass API server) by a batch running periodically on this server to process all new or modified data changes in the database so the data in them is not always the newest\n",
    "* their objects include closed ways, or relations (notably \"boundary\" and \"multipolygon\" relations) whose members include one or more ways joined together to create closed \"inner\" or \"outer\" rings delimiting a surface\n",
    "* they can greatly simplify and speedup the queries, notably for large surfaces with complex geometries, usually using \"boundary\" or \"multipolygon\" relations (such as boundaries of countries or their regional subdivisions, or the complex boundaries of large \"landuse\" or \"natural\" areas)\n",
    "\n",
    "These areas can then be used as more selective bounding filters (instead of using simple bounding boxes), or can also be used themselves as queries (in which case they will return all nodes in the surface enclosed by the area geometry)."
   ]
  },
  {
   "cell_type": "markdown",
   "metadata": {},
   "source": [
    "Чтобы сделать запрос по множеству внутри area необходимо:\n",
    "\n",
    "* написать запрос, чтобы задать area:  area[name=\"Russia\"];)->.a;\n",
    "* прописать условие как к обычному запросу рядом с (area.a)\n",
    "\n",
    "Почему-то у меня оно не работает так, как я ожидала: он выдает какие-то объекты с названием Russia, но не все объекты, связанные со страной. Надо еще разобраться."
   ]
  },
  {
   "cell_type": "code",
   "execution_count": 29,
   "metadata": {},
   "outputs": [],
   "source": [
    "result = overpass.query('(area[name=\"Russia\"][\"place\"=\"country\"];)->.a; out body;')\n",
    "results = result.elements()"
   ]
  },
  {
   "cell_type": "code",
   "execution_count": 30,
   "metadata": {},
   "outputs": [
    {
     "ename": "IndexError",
     "evalue": "list index out of range",
     "output_type": "error",
     "traceback": [
      "\u001b[1;31m---------------------------------------------------------------------------\u001b[0m",
      "\u001b[1;31mIndexError\u001b[0m                                Traceback (most recent call last)",
      "\u001b[1;32m<ipython-input-30-d696d052e703>\u001b[0m in \u001b[0;36m<module>\u001b[1;34m\u001b[0m\n\u001b[1;32m----> 1\u001b[1;33m \u001b[0mresults\u001b[0m\u001b[1;33m[\u001b[0m\u001b[1;36m0\u001b[0m\u001b[1;33m]\u001b[0m\u001b[1;33m.\u001b[0m\u001b[0m__dict__\u001b[0m\u001b[1;33m\u001b[0m\u001b[1;33m\u001b[0m\u001b[0m\n\u001b[0m",
      "\u001b[1;31mIndexError\u001b[0m: list index out of range"
     ]
    }
   ],
   "source": [
    "results[0].__dict__"
   ]
  },
  {
   "cell_type": "code",
   "execution_count": 10,
   "metadata": {},
   "outputs": [
    {
     "name": "stderr",
     "output_type": "stream",
     "text": [
      "[overpass] downloading data: [timeout:25][out:json];(area[name=\"Россия\"];)->.a;nwr[\"name\"=\"Москва\"](area.a); out body;\n",
      "Exception: [overpass] runtime error: Query timed out in \"query\" at line 1 after 26 seconds.\n",
      "NoneType: None\n",
      "[overpass] error in result (cache/overpass-8080894d20387033c3cdfa7ae4dc4c189663d515): [timeout:25][out:json];(area[name=\"Россия\"];)->.a;nwr[\"name\"=\"Москва\"](area.a); out body;\n",
      "NoneType: None\n"
     ]
    },
    {
     "ename": "Exception",
     "evalue": "[overpass] error in result (cache/overpass-8080894d20387033c3cdfa7ae4dc4c189663d515): [timeout:25][out:json];(area[name=\"Россия\"];)->.a;nwr[\"name\"=\"Москва\"](area.a); out body;",
     "output_type": "error",
     "traceback": [
      "\u001b[1;31m---------------------------------------------------------------------------\u001b[0m",
      "\u001b[1;31mException\u001b[0m                                 Traceback (most recent call last)",
      "\u001b[1;32m<ipython-input-10-3e449ecc7caf>\u001b[0m in \u001b[0;36m<module>\u001b[1;34m\u001b[0m\n\u001b[1;32m----> 1\u001b[1;33m \u001b[0mresult\u001b[0m \u001b[1;33m=\u001b[0m \u001b[0moverpass\u001b[0m\u001b[1;33m.\u001b[0m\u001b[0mquery\u001b[0m\u001b[1;33m(\u001b[0m\u001b[1;34m'(area[name=\"Россия\"];)->.a;nwr[\"name\"=\"Москва\"](area.a); out body;'\u001b[0m\u001b[1;33m)\u001b[0m\u001b[1;33m\u001b[0m\u001b[1;33m\u001b[0m\u001b[0m\n\u001b[0m\u001b[0;32m      2\u001b[0m \u001b[0mresults\u001b[0m \u001b[1;33m=\u001b[0m \u001b[0mresult\u001b[0m\u001b[1;33m.\u001b[0m\u001b[0melements\u001b[0m\u001b[1;33m(\u001b[0m\u001b[1;33m)\u001b[0m\u001b[1;33m\u001b[0m\u001b[1;33m\u001b[0m\u001b[0m\n",
      "\u001b[1;32m~\\anaconda3\\lib\\site-packages\\OSMPythonTools\\internal\\cacheObject.py\u001b[0m in \u001b[0;36mquery\u001b[1;34m(self, onlyCached, shallow, *args, **kwargs)\u001b[0m\n\u001b[0;32m     42\u001b[0m             \u001b[0mmsg\u001b[0m \u001b[1;33m=\u001b[0m \u001b[1;34m'['\u001b[0m \u001b[1;33m+\u001b[0m \u001b[0mself\u001b[0m\u001b[1;33m.\u001b[0m\u001b[0m_prefix\u001b[0m \u001b[1;33m+\u001b[0m \u001b[1;34m'] error in result ('\u001b[0m \u001b[1;33m+\u001b[0m \u001b[0mfilename\u001b[0m \u001b[1;33m+\u001b[0m \u001b[1;34m'): '\u001b[0m \u001b[1;33m+\u001b[0m \u001b[0mqueryString\u001b[0m\u001b[1;33m\u001b[0m\u001b[1;33m\u001b[0m\u001b[0m\n\u001b[0;32m     43\u001b[0m             \u001b[0mOSMPythonTools\u001b[0m\u001b[1;33m.\u001b[0m\u001b[0mlogger\u001b[0m\u001b[1;33m.\u001b[0m\u001b[0mexception\u001b[0m\u001b[1;33m(\u001b[0m\u001b[0mmsg\u001b[0m\u001b[1;33m)\u001b[0m\u001b[1;33m\u001b[0m\u001b[1;33m\u001b[0m\u001b[0m\n\u001b[1;32m---> 44\u001b[1;33m             \u001b[1;32mraise\u001b[0m\u001b[1;33m(\u001b[0m\u001b[0mException\u001b[0m\u001b[1;33m(\u001b[0m\u001b[0mmsg\u001b[0m\u001b[1;33m)\u001b[0m\u001b[1;33m)\u001b[0m\u001b[1;33m\u001b[0m\u001b[1;33m\u001b[0m\u001b[0m\n\u001b[0m\u001b[0;32m     45\u001b[0m         \u001b[1;32mreturn\u001b[0m \u001b[0mresult\u001b[0m\u001b[1;33m\u001b[0m\u001b[1;33m\u001b[0m\u001b[0m\n\u001b[0;32m     46\u001b[0m \u001b[1;33m\u001b[0m\u001b[0m\n",
      "\u001b[1;31mException\u001b[0m: [overpass] error in result (cache/overpass-8080894d20387033c3cdfa7ae4dc4c189663d515): [timeout:25][out:json];(area[name=\"Россия\"];)->.a;nwr[\"name\"=\"Москва\"](area.a); out body;"
     ]
    }
   ],
   "source": [
    "result = overpass.query('(area[name=\"Россия\"];)->.a;nwr[\"name\"=\"Москва\"](area.a); out body;')\n",
    "results = result.elements()"
   ]
  },
  {
   "cell_type": "code",
   "execution_count": null,
   "metadata": {},
   "outputs": [],
   "source": [
    "len(results)"
   ]
  },
  {
   "cell_type": "markdown",
   "metadata": {},
   "source": [
    "Then this named result set can be used to filter objects by intersection with this area. The following filter clause will keep only objects from the current result set that are intersecting with any area present in the named result set \"a\":\n",
    "\n",
    "/*your query here*/(area.a)\n",
    "\n",
    "Note that this filter will keep any object (nodes, ways, relations, or areas) in the main query that are fully contained in any area in \"a\", or partially covered by any one of them, or any object in the query whose surface completely encloses any area in \"a\". For example, if the selected area is the area of a city, the filter will return all local subdivisions (districts, quarters) in that city, all natural features (such as lakes) in that city, and all subdivisions that are including that city (nodes, ways, relations and areas in the input set), unless you use additional tag filters in the main query to be more selective (such as [\"admin_level\"=\"8\"] for just selecting OSM objects representing that city; the closed objects for the surrounding cities that also tagged with [\"admin_level\"=\"8\"], and that are sharing only a common border with the selected city will normally not be returned because the surface of their mutual intersection should be empty and limited to these common borders; however any nodes and ways that are in the input set, and that are also falling exactly on the border of the selected area will be returned, independently of other relations or closed ways in which they could be members)."
   ]
  },
  {
   "cell_type": "markdown",
   "metadata": {},
   "source": [
    "## Recursion clauses (\"recursion filters\")\n",
    "\n",
    "Or recursion forward or backward about membership links\n",
    "\n",
    "  * (r)\n",
    "  * (w)\n",
    "  * (n)\n",
    "  * (br)\n",
    "  * (bw)\n",
    "  * (bn)\n",
    "  * (>)\n",
    "  * (>>)\n",
    "  * (<)\n",
    "  * (<<)"
   ]
  },
  {
   "cell_type": "markdown",
   "metadata": {},
   "source": [
    "## Special clauses (\"special filters\")\n",
    "\n",
    "Or special clauses of the form \"(type:value)\", e.g. the \"(around:value)\" clause."
   ]
  },
  {
   "cell_type": "markdown",
   "metadata": {},
   "source": [
    "## Features & tags\n",
    "\n",
    "Информация о тегах при объектах: https://wiki.openstreetmap.org/wiki/Map_features"
   ]
  },
  {
   "cell_type": "markdown",
   "metadata": {},
   "source": [
    "## Вывод\n",
    "\n",
    "* geom: Add the full geometry to each object. This adds coordinates to each node, to each node member of a way or relation, and it adds a sequence of \"nd\" members with coordinates to all relations.\n",
    "* bb: Adds only the bounding box of each element to the element. For nodes this is equivalent to \"geom\". For ways it is the enclosing bounding box of all nodes. For relations it is the enclosing bounding box of all node and way members, relations as members have no effect.\n",
    "* center: This adds only the center of the above mentioned bounding box to ways and relations. Note: The center point is not guaranteed to lie inside the polygon (example)."
   ]
  },
  {
   "cell_type": "markdown",
   "metadata": {},
   "source": [
    "## Координаты\n",
    "\n",
    "Возможные проблемы:\n",
    "* может понадобиться специфицировать какие-то детали, например, тип населенного пункта или bounding box, в случае, если по названию выдастся больше одного узла"
   ]
  },
  {
   "cell_type": "code",
   "execution_count": 6,
   "metadata": {},
   "outputs": [],
   "source": [
    "result = overpass.query('node[\"name\"=\"Тетея\"]; out geom;')\n",
    "results = result.elements()"
   ]
  },
  {
   "cell_type": "code",
   "execution_count": 7,
   "metadata": {},
   "outputs": [
    {
     "data": {
      "text/plain": [
       "{'_json': {'type': 'node',\n",
       "  'id': 2001367584,\n",
       "  'lat': 60.98027,\n",
       "  'lon': 106.702499,\n",
       "  'tags': {'name': 'Тетея',\n",
       "   'place': 'hamlet',\n",
       "   'population': '37',\n",
       "   'population:date': '2010-10-14',\n",
       "   'wikidata': 'Q4456586',\n",
       "   'wikipedia': 'ru:Тетея'}},\n",
       " '_soup': None,\n",
       " '_shallow': False}"
      ]
     },
     "execution_count": 7,
     "metadata": {},
     "output_type": "execute_result"
    }
   ],
   "source": [
    "results[0].__dict__"
   ]
  },
  {
   "cell_type": "markdown",
   "metadata": {},
   "source": [
    "## Пути\n",
    "\n",
    "Каждый узел имеет уникальный индекс. Путь представляет собой последовательный список индексов узлов. Пока что не понятно, как задать условие на выбор пути таким образом, чтобы были соединены два узла."
   ]
  },
  {
   "cell_type": "code",
   "execution_count": 15,
   "metadata": {},
   "outputs": [
    {
     "data": {
      "text/plain": [
       "1"
      ]
     },
     "execution_count": 15,
     "metadata": {},
     "output_type": "execute_result"
    }
   ],
   "source": [
    "result = overpass.query('node[\"name\"=\"Москва\"][\"place\"=\"city\"]; out geom;')\n",
    "results = result.elements()\n",
    "len(results)"
   ]
  },
  {
   "cell_type": "code",
   "execution_count": 9,
   "metadata": {},
   "outputs": [
    {
     "data": {
      "text/plain": [
       "1686293227"
      ]
     },
     "execution_count": 9,
     "metadata": {},
     "output_type": "execute_result"
    }
   ],
   "source": [
    "results[0].__dict__['_json']['id']"
   ]
  },
  {
   "cell_type": "code",
   "execution_count": 10,
   "metadata": {},
   "outputs": [
    {
     "data": {
      "text/plain": [
       "1"
      ]
     },
     "execution_count": 10,
     "metadata": {},
     "output_type": "execute_result"
    }
   ],
   "source": [
    "result = overpass.query('node[\"name\"=\"Тула\"][\"place\"=\"city\"]; out geom;')\n",
    "results = result.elements()\n",
    "len(results)"
   ]
  },
  {
   "cell_type": "code",
   "execution_count": 11,
   "metadata": {},
   "outputs": [
    {
     "data": {
      "text/plain": [
       "34389350"
      ]
     },
     "execution_count": 11,
     "metadata": {},
     "output_type": "execute_result"
    }
   ],
   "source": [
    "results[0].__dict__['_json']['id'] # просто индексы узлов"
   ]
  },
  {
   "cell_type": "code",
   "execution_count": 45,
   "metadata": {},
   "outputs": [
    {
     "data": {
      "text/plain": [
       "192"
      ]
     },
     "execution_count": 45,
     "metadata": {},
     "output_type": "execute_result"
    }
   ],
   "source": [
    "result = overpass.query('way[\"name\"=\"Москва\"]; out geom;')\n",
    "results = result.elements()\n",
    "len(results)"
   ]
  },
  {
   "cell_type": "code",
   "execution_count": 47,
   "metadata": {},
   "outputs": [
    {
     "data": {
      "text/plain": [
       "{'boat': 'no',\n",
       " 'name': 'Москва',\n",
       " 'name:en': 'Moscow',\n",
       " 'name:ru': 'Москва',\n",
       " 'waterway': 'river',\n",
       " 'wikidata': 'Q175117',\n",
       " 'wikipedia': 'ru:Москва (река)'}"
      ]
     },
     "execution_count": 47,
     "metadata": {},
     "output_type": "execute_result"
    }
   ],
   "source": [
    "results[0].__dict__['_json']['tags'] # какой-то рандомный путь"
   ]
  },
  {
   "cell_type": "code",
   "execution_count": 38,
   "metadata": {},
   "outputs": [
    {
     "data": {
      "text/plain": [
       "[259964812,\n",
       " 640536924,\n",
       " 824421587,\n",
       " 824422134,\n",
       " 824421252,\n",
       " 824421680,\n",
       " 824422230,\n",
       " 259964813,\n",
       " 7302530178,\n",
       " 824421337,\n",
       " 7302530177,\n",
       " 259964814,\n",
       " 721036835,\n",
       " 1395138813,\n",
       " 7302530153,\n",
       " 259964815,\n",
       " 1113597785,\n",
       " 7302530119,\n",
       " 1395138816,\n",
       " 7302530154,\n",
       " 259964816,\n",
       " 7302530156,\n",
       " 7302530155,\n",
       " 7302530157,\n",
       " 259964817,\n",
       " 7302530159,\n",
       " 7302530158,\n",
       " 7302530160,\n",
       " 824421909,\n",
       " 7302530162,\n",
       " 7302530161,\n",
       " 7302530163,\n",
       " 259964818,\n",
       " 7302530164,\n",
       " 824422328,\n",
       " 1113597719,\n",
       " 7302530175,\n",
       " 824421478,\n",
       " 7302530176,\n",
       " 259964819,\n",
       " 259964820,\n",
       " 259964821,\n",
       " 7303935938,\n",
       " 7303935939,\n",
       " 259964822,\n",
       " 7303935940,\n",
       " 395390667,\n",
       " 7303935941,\n",
       " 259964823,\n",
       " 7303935942,\n",
       " 824422401,\n",
       " 7303935943,\n",
       " 395390671,\n",
       " 7303935944,\n",
       " 259964824,\n",
       " 7303935945,\n",
       " 824421970,\n",
       " 824421571,\n",
       " 7303935946,\n",
       " 7303935947,\n",
       " 259964825,\n",
       " 1080453525,\n",
       " 7303935948,\n",
       " 824422232,\n",
       " 7303935949,\n",
       " 824421684,\n",
       " 824422204,\n",
       " 7303987757,\n",
       " 7303987756,\n",
       " 7303987758,\n",
       " 259964826,\n",
       " 7303987755,\n",
       " 824421654,\n",
       " 824421140,\n",
       " 7303987759,\n",
       " 7303935969,\n",
       " 7303989970,\n",
       " 7303935970,\n",
       " 259964827,\n",
       " 7303935971,\n",
       " 824421338,\n",
       " 1882105758,\n",
       " 259964828,\n",
       " 964832726,\n",
       " 1242870912,\n",
       " 259964829,\n",
       " 1882105825,\n",
       " 1882105827,\n",
       " 824421497,\n",
       " 7303987751,\n",
       " 259964830,\n",
       " 964834371,\n",
       " 964828880,\n",
       " 440337961,\n",
       " 259964831,\n",
       " 1882106005,\n",
       " 824421903,\n",
       " 1882106046,\n",
       " 1882106047,\n",
       " 259964832,\n",
       " 809508412,\n",
       " 7303987750,\n",
       " 964831173,\n",
       " 259964833,\n",
       " 1882106050,\n",
       " 440337962,\n",
       " 1882106064,\n",
       " 1882106066,\n",
       " 259964834,\n",
       " 964833792,\n",
       " 259964835,\n",
       " 1882106078,\n",
       " 268936801,\n",
       " 1882106083,\n",
       " 1882106088,\n",
       " 440337960,\n",
       " 1882106119,\n",
       " 964828315,\n",
       " 1882106129,\n",
       " 440337959,\n",
       " 1882106135,\n",
       " 964830593,\n",
       " 259964837,\n",
       " 1882106139,\n",
       " 964833903,\n",
       " 259964838,\n",
       " 964828454,\n",
       " 824421168,\n",
       " 1882106177,\n",
       " 964830718,\n",
       " 259964839,\n",
       " 1882106206,\n",
       " 440337956,\n",
       " 7303935976,\n",
       " 964833283,\n",
       " 7303935975,\n",
       " 1882106219,\n",
       " 259964840,\n",
       " 964827888,\n",
       " 7303935972,\n",
       " 440337957,\n",
       " 1882106223,\n",
       " 7303935973,\n",
       " 964830153,\n",
       " 259964841,\n",
       " 7303935974,\n",
       " 964832696,\n",
       " 7304138672,\n",
       " 440337958,\n",
       " 964827299,\n",
       " 259964842,\n",
       " 1882106203,\n",
       " 7960564683,\n",
       " 7960564681,\n",
       " 259964843,\n",
       " 803937625]"
      ]
     },
     "execution_count": 38,
     "metadata": {},
     "output_type": "execute_result"
    }
   ],
   "source": [
    "results[0].__dict__['_json']['nodes'] # узлы в нем"
   ]
  },
  {
   "cell_type": "markdown",
   "metadata": {},
   "source": [
    "Можно посчитать длину пути функцией length, но есть проблемы. Первая заключается в том, что нам нужен только сегмент пути, и пока непонятно, как его вырезать. О второй ниже.\n",
    "\n",
    "Вот описание функции и ее применение из документации:\n",
    "\n",
    "Length\n",
    "since v0.7.55\n",
    "\n",
    "The length operator returns the length of the element. For ways this is the length of the way. For relations this is the sum of the lengthes of the members of type way. For nodes it is always zero.\n",
    "\n",
    "Its syntax is:\n",
    "\n",
    " length()"
   ]
  },
  {
   "cell_type": "markdown",
   "metadata": {},
   "source": [
    "В средней части запроса мы посчитали сумму длин путей, вывели их, создав новый объект stat."
   ]
  },
  {
   "cell_type": "code",
   "execution_count": 69,
   "metadata": {},
   "outputs": [
    {
     "name": "stderr",
     "output_type": "stream",
     "text": [
      "[overpass] downloading data: [timeout:25][out:json];way[\"name\"=\"Москва\"]; make stat length=sum(length()); out;\n"
     ]
    },
    {
     "data": {
      "text/plain": [
       "1"
      ]
     },
     "execution_count": 69,
     "metadata": {},
     "output_type": "execute_result"
    }
   ],
   "source": [
    "result = overpass.query('way[\"name\"=\"Москва\"]; make stat length=sum(length()); out;')\n",
    "results = result.elements()\n",
    "len(results)"
   ]
  },
  {
   "cell_type": "code",
   "execution_count": 70,
   "metadata": {},
   "outputs": [
    {
     "data": {
      "text/plain": [
       "{'_json': {'type': 'stat', 'id': 1, 'tags': {'length': '563877.511'}},\n",
       " '_soup': None,\n",
       " '_shallow': False}"
      ]
     },
     "execution_count": 70,
     "metadata": {},
     "output_type": "execute_result"
    }
   ],
   "source": [
    "results[0].__dict__"
   ]
  },
  {
   "cell_type": "markdown",
   "metadata": {},
   "source": [
    "Хочется попробовать вывести просто длину каждого пути. Для этого задаем цикл по сету, пока что просто с выводом."
   ]
  },
  {
   "cell_type": "code",
   "execution_count": 93,
   "metadata": {},
   "outputs": [
    {
     "data": {
      "text/plain": [
       "192"
      ]
     },
     "execution_count": 93,
     "metadata": {},
     "output_type": "execute_result"
    }
   ],
   "source": [
    "result = overpass.query(\"\"\"way[\"name\"=\"Москва\"] -> .a;\n",
    "                            foreach.a -> .b(\n",
    "                            .b out;\n",
    "                            );\"\"\")\n",
    "results = result.elements()\n",
    "len(results)"
   ]
  },
  {
   "cell_type": "markdown",
   "metadata": {},
   "source": [
    "Как только пытаемся прицепить функцию, все ломается. Почему-то внутри цикла элемент не передается в функцию length самостоятельно, а если передать ей элемент вручную (вписать length(.b)), то все ломается, и Overpass API ругается, что этой функции нельзя передавать аргументы. Пробовала тестить здесь: https://overpass-turbo.eu/\n"
   ]
  },
  {
   "cell_type": "code",
   "execution_count": 92,
   "metadata": {},
   "outputs": [
    {
     "name": "stderr",
     "output_type": "stream",
     "text": [
      "[overpass] downloading data: [timeout:25][out:json];way[\"name\"=\"Москва\"] -> .a;\n",
      "                            foreach.a -> .b(\n",
      "                            length() out;\n",
      "                            );\n",
      "The requested data could not be downloaded. HTTP Error 400: Bad Request\n",
      "Traceback (most recent call last):\n",
      "  File \"C:\\Users\\VADIK\\anaconda3\\lib\\site-packages\\OSMPythonTools\\internal\\cacheObject.py\", line 83, in __query\n",
      "    response = urllib.request.urlopen(request)\n",
      "  File \"C:\\Users\\VADIK\\anaconda3\\lib\\urllib\\request.py\", line 222, in urlopen\n",
      "    return opener.open(url, data, timeout)\n",
      "  File \"C:\\Users\\VADIK\\anaconda3\\lib\\urllib\\request.py\", line 531, in open\n",
      "    response = meth(req, response)\n",
      "  File \"C:\\Users\\VADIK\\anaconda3\\lib\\urllib\\request.py\", line 640, in http_response\n",
      "    response = self.parent.error(\n",
      "  File \"C:\\Users\\VADIK\\anaconda3\\lib\\urllib\\request.py\", line 569, in error\n",
      "    return self._call_chain(*args)\n",
      "  File \"C:\\Users\\VADIK\\anaconda3\\lib\\urllib\\request.py\", line 502, in _call_chain\n",
      "    result = func(*args)\n",
      "  File \"C:\\Users\\VADIK\\anaconda3\\lib\\urllib\\request.py\", line 649, in http_error_default\n",
      "    raise HTTPError(req.full_url, code, msg, hdrs, fp)\n",
      "urllib.error.HTTPError: HTTP Error 400: Bad Request\n"
     ]
    },
    {
     "ename": "Exception",
     "evalue": "The requested data could not be downloaded. HTTP Error 400: Bad Request",
     "output_type": "error",
     "traceback": [
      "\u001b[1;31m---------------------------------------------------------------------------\u001b[0m",
      "\u001b[1;31mHTTPError\u001b[0m                                 Traceback (most recent call last)",
      "\u001b[1;32m~\\anaconda3\\lib\\site-packages\\OSMPythonTools\\internal\\cacheObject.py\u001b[0m in \u001b[0;36m__query\u001b[1;34m(self, requestString, params)\u001b[0m\n\u001b[0;32m     82\u001b[0m         \u001b[1;32mtry\u001b[0m\u001b[1;33m:\u001b[0m\u001b[1;33m\u001b[0m\u001b[1;33m\u001b[0m\u001b[0m\n\u001b[1;32m---> 83\u001b[1;33m             \u001b[0mresponse\u001b[0m \u001b[1;33m=\u001b[0m \u001b[0murllib\u001b[0m\u001b[1;33m.\u001b[0m\u001b[0mrequest\u001b[0m\u001b[1;33m.\u001b[0m\u001b[0murlopen\u001b[0m\u001b[1;33m(\u001b[0m\u001b[0mrequest\u001b[0m\u001b[1;33m)\u001b[0m\u001b[1;33m\u001b[0m\u001b[1;33m\u001b[0m\u001b[0m\n\u001b[0m\u001b[0;32m     84\u001b[0m         \u001b[1;32mexcept\u001b[0m \u001b[0murllib\u001b[0m\u001b[1;33m.\u001b[0m\u001b[0mrequest\u001b[0m\u001b[1;33m.\u001b[0m\u001b[0mHTTPError\u001b[0m \u001b[1;32mas\u001b[0m \u001b[0merr\u001b[0m\u001b[1;33m:\u001b[0m\u001b[1;33m\u001b[0m\u001b[1;33m\u001b[0m\u001b[0m\n",
      "\u001b[1;32m~\\anaconda3\\lib\\urllib\\request.py\u001b[0m in \u001b[0;36murlopen\u001b[1;34m(url, data, timeout, cafile, capath, cadefault, context)\u001b[0m\n\u001b[0;32m    221\u001b[0m         \u001b[0mopener\u001b[0m \u001b[1;33m=\u001b[0m \u001b[0m_opener\u001b[0m\u001b[1;33m\u001b[0m\u001b[1;33m\u001b[0m\u001b[0m\n\u001b[1;32m--> 222\u001b[1;33m     \u001b[1;32mreturn\u001b[0m \u001b[0mopener\u001b[0m\u001b[1;33m.\u001b[0m\u001b[0mopen\u001b[0m\u001b[1;33m(\u001b[0m\u001b[0murl\u001b[0m\u001b[1;33m,\u001b[0m \u001b[0mdata\u001b[0m\u001b[1;33m,\u001b[0m \u001b[0mtimeout\u001b[0m\u001b[1;33m)\u001b[0m\u001b[1;33m\u001b[0m\u001b[1;33m\u001b[0m\u001b[0m\n\u001b[0m\u001b[0;32m    223\u001b[0m \u001b[1;33m\u001b[0m\u001b[0m\n",
      "\u001b[1;32m~\\anaconda3\\lib\\urllib\\request.py\u001b[0m in \u001b[0;36mopen\u001b[1;34m(self, fullurl, data, timeout)\u001b[0m\n\u001b[0;32m    530\u001b[0m             \u001b[0mmeth\u001b[0m \u001b[1;33m=\u001b[0m \u001b[0mgetattr\u001b[0m\u001b[1;33m(\u001b[0m\u001b[0mprocessor\u001b[0m\u001b[1;33m,\u001b[0m \u001b[0mmeth_name\u001b[0m\u001b[1;33m)\u001b[0m\u001b[1;33m\u001b[0m\u001b[1;33m\u001b[0m\u001b[0m\n\u001b[1;32m--> 531\u001b[1;33m             \u001b[0mresponse\u001b[0m \u001b[1;33m=\u001b[0m \u001b[0mmeth\u001b[0m\u001b[1;33m(\u001b[0m\u001b[0mreq\u001b[0m\u001b[1;33m,\u001b[0m \u001b[0mresponse\u001b[0m\u001b[1;33m)\u001b[0m\u001b[1;33m\u001b[0m\u001b[1;33m\u001b[0m\u001b[0m\n\u001b[0m\u001b[0;32m    532\u001b[0m \u001b[1;33m\u001b[0m\u001b[0m\n",
      "\u001b[1;32m~\\anaconda3\\lib\\urllib\\request.py\u001b[0m in \u001b[0;36mhttp_response\u001b[1;34m(self, request, response)\u001b[0m\n\u001b[0;32m    639\u001b[0m         \u001b[1;32mif\u001b[0m \u001b[1;32mnot\u001b[0m \u001b[1;33m(\u001b[0m\u001b[1;36m200\u001b[0m \u001b[1;33m<=\u001b[0m \u001b[0mcode\u001b[0m \u001b[1;33m<\u001b[0m \u001b[1;36m300\u001b[0m\u001b[1;33m)\u001b[0m\u001b[1;33m:\u001b[0m\u001b[1;33m\u001b[0m\u001b[1;33m\u001b[0m\u001b[0m\n\u001b[1;32m--> 640\u001b[1;33m             response = self.parent.error(\n\u001b[0m\u001b[0;32m    641\u001b[0m                 'http', request, response, code, msg, hdrs)\n",
      "\u001b[1;32m~\\anaconda3\\lib\\urllib\\request.py\u001b[0m in \u001b[0;36merror\u001b[1;34m(self, proto, *args)\u001b[0m\n\u001b[0;32m    568\u001b[0m             \u001b[0margs\u001b[0m \u001b[1;33m=\u001b[0m \u001b[1;33m(\u001b[0m\u001b[0mdict\u001b[0m\u001b[1;33m,\u001b[0m \u001b[1;34m'default'\u001b[0m\u001b[1;33m,\u001b[0m \u001b[1;34m'http_error_default'\u001b[0m\u001b[1;33m)\u001b[0m \u001b[1;33m+\u001b[0m \u001b[0morig_args\u001b[0m\u001b[1;33m\u001b[0m\u001b[1;33m\u001b[0m\u001b[0m\n\u001b[1;32m--> 569\u001b[1;33m             \u001b[1;32mreturn\u001b[0m \u001b[0mself\u001b[0m\u001b[1;33m.\u001b[0m\u001b[0m_call_chain\u001b[0m\u001b[1;33m(\u001b[0m\u001b[1;33m*\u001b[0m\u001b[0margs\u001b[0m\u001b[1;33m)\u001b[0m\u001b[1;33m\u001b[0m\u001b[1;33m\u001b[0m\u001b[0m\n\u001b[0m\u001b[0;32m    570\u001b[0m \u001b[1;33m\u001b[0m\u001b[0m\n",
      "\u001b[1;32m~\\anaconda3\\lib\\urllib\\request.py\u001b[0m in \u001b[0;36m_call_chain\u001b[1;34m(self, chain, kind, meth_name, *args)\u001b[0m\n\u001b[0;32m    501\u001b[0m             \u001b[0mfunc\u001b[0m \u001b[1;33m=\u001b[0m \u001b[0mgetattr\u001b[0m\u001b[1;33m(\u001b[0m\u001b[0mhandler\u001b[0m\u001b[1;33m,\u001b[0m \u001b[0mmeth_name\u001b[0m\u001b[1;33m)\u001b[0m\u001b[1;33m\u001b[0m\u001b[1;33m\u001b[0m\u001b[0m\n\u001b[1;32m--> 502\u001b[1;33m             \u001b[0mresult\u001b[0m \u001b[1;33m=\u001b[0m \u001b[0mfunc\u001b[0m\u001b[1;33m(\u001b[0m\u001b[1;33m*\u001b[0m\u001b[0margs\u001b[0m\u001b[1;33m)\u001b[0m\u001b[1;33m\u001b[0m\u001b[1;33m\u001b[0m\u001b[0m\n\u001b[0m\u001b[0;32m    503\u001b[0m             \u001b[1;32mif\u001b[0m \u001b[0mresult\u001b[0m \u001b[1;32mis\u001b[0m \u001b[1;32mnot\u001b[0m \u001b[1;32mNone\u001b[0m\u001b[1;33m:\u001b[0m\u001b[1;33m\u001b[0m\u001b[1;33m\u001b[0m\u001b[0m\n",
      "\u001b[1;32m~\\anaconda3\\lib\\urllib\\request.py\u001b[0m in \u001b[0;36mhttp_error_default\u001b[1;34m(self, req, fp, code, msg, hdrs)\u001b[0m\n\u001b[0;32m    648\u001b[0m     \u001b[1;32mdef\u001b[0m \u001b[0mhttp_error_default\u001b[0m\u001b[1;33m(\u001b[0m\u001b[0mself\u001b[0m\u001b[1;33m,\u001b[0m \u001b[0mreq\u001b[0m\u001b[1;33m,\u001b[0m \u001b[0mfp\u001b[0m\u001b[1;33m,\u001b[0m \u001b[0mcode\u001b[0m\u001b[1;33m,\u001b[0m \u001b[0mmsg\u001b[0m\u001b[1;33m,\u001b[0m \u001b[0mhdrs\u001b[0m\u001b[1;33m)\u001b[0m\u001b[1;33m:\u001b[0m\u001b[1;33m\u001b[0m\u001b[1;33m\u001b[0m\u001b[0m\n\u001b[1;32m--> 649\u001b[1;33m         \u001b[1;32mraise\u001b[0m \u001b[0mHTTPError\u001b[0m\u001b[1;33m(\u001b[0m\u001b[0mreq\u001b[0m\u001b[1;33m.\u001b[0m\u001b[0mfull_url\u001b[0m\u001b[1;33m,\u001b[0m \u001b[0mcode\u001b[0m\u001b[1;33m,\u001b[0m \u001b[0mmsg\u001b[0m\u001b[1;33m,\u001b[0m \u001b[0mhdrs\u001b[0m\u001b[1;33m,\u001b[0m \u001b[0mfp\u001b[0m\u001b[1;33m)\u001b[0m\u001b[1;33m\u001b[0m\u001b[1;33m\u001b[0m\u001b[0m\n\u001b[0m\u001b[0;32m    650\u001b[0m \u001b[1;33m\u001b[0m\u001b[0m\n",
      "\u001b[1;31mHTTPError\u001b[0m: HTTP Error 400: Bad Request",
      "\nDuring handling of the above exception, another exception occurred:\n",
      "\u001b[1;31mException\u001b[0m                                 Traceback (most recent call last)",
      "\u001b[1;32m<ipython-input-92-74343b4e4194>\u001b[0m in \u001b[0;36m<module>\u001b[1;34m\u001b[0m\n\u001b[1;32m----> 1\u001b[1;33m result = overpass.query(\"\"\"way[\"name\"=\"Москва\"] -> .a;\n\u001b[0m\u001b[0;32m      2\u001b[0m                             foreach.a -> .b(\n\u001b[0;32m      3\u001b[0m                             \u001b[0mlength\u001b[0m\u001b[1;33m(\u001b[0m\u001b[1;33m)\u001b[0m \u001b[0mout\u001b[0m\u001b[1;33m;\u001b[0m\u001b[1;33m\u001b[0m\u001b[1;33m\u001b[0m\u001b[0m\n\u001b[0;32m      4\u001b[0m                             );\"\"\")\n\u001b[0;32m      5\u001b[0m \u001b[0mresults\u001b[0m \u001b[1;33m=\u001b[0m \u001b[0mresult\u001b[0m\u001b[1;33m.\u001b[0m\u001b[0melements\u001b[0m\u001b[1;33m(\u001b[0m\u001b[1;33m)\u001b[0m\u001b[1;33m\u001b[0m\u001b[1;33m\u001b[0m\u001b[0m\n",
      "\u001b[1;32m~\\anaconda3\\lib\\site-packages\\OSMPythonTools\\internal\\cacheObject.py\u001b[0m in \u001b[0;36mquery\u001b[1;34m(self, onlyCached, shallow, *args, **kwargs)\u001b[0m\n\u001b[0;32m     35\u001b[0m                     \u001b[0mtime\u001b[0m\u001b[1;33m.\u001b[0m\u001b[0msleep\u001b[0m\u001b[1;33m(\u001b[0m\u001b[0mself\u001b[0m\u001b[1;33m.\u001b[0m\u001b[0m__waitBetweenQueries\u001b[0m \u001b[1;33m-\u001b[0m \u001b[0mtime\u001b[0m\u001b[1;33m.\u001b[0m\u001b[0mtime\u001b[0m\u001b[1;33m(\u001b[0m\u001b[1;33m)\u001b[0m \u001b[1;33m+\u001b[0m \u001b[0mself\u001b[0m\u001b[1;33m.\u001b[0m\u001b[0m__lastQuery\u001b[0m\u001b[1;33m)\u001b[0m\u001b[1;33m\u001b[0m\u001b[1;33m\u001b[0m\u001b[0m\n\u001b[0;32m     36\u001b[0m             \u001b[0mself\u001b[0m\u001b[1;33m.\u001b[0m\u001b[0m__lastQuery\u001b[0m \u001b[1;33m=\u001b[0m \u001b[0mtime\u001b[0m\u001b[1;33m.\u001b[0m\u001b[0mtime\u001b[0m\u001b[1;33m(\u001b[0m\u001b[1;33m)\u001b[0m\u001b[1;33m\u001b[0m\u001b[1;33m\u001b[0m\u001b[0m\n\u001b[1;32m---> 37\u001b[1;33m             \u001b[0mdata\u001b[0m \u001b[1;33m=\u001b[0m \u001b[0mself\u001b[0m\u001b[1;33m.\u001b[0m\u001b[0m__query\u001b[0m\u001b[1;33m(\u001b[0m\u001b[0mqueryString\u001b[0m\u001b[1;33m,\u001b[0m \u001b[0mparams\u001b[0m\u001b[1;33m)\u001b[0m\u001b[1;33m\u001b[0m\u001b[1;33m\u001b[0m\u001b[0m\n\u001b[0m\u001b[0;32m     38\u001b[0m             \u001b[1;32mwith\u001b[0m \u001b[0mopen\u001b[0m\u001b[1;33m(\u001b[0m\u001b[0mfilename\u001b[0m\u001b[1;33m,\u001b[0m \u001b[1;34m'w'\u001b[0m\u001b[1;33m)\u001b[0m \u001b[1;32mas\u001b[0m \u001b[0mfile\u001b[0m\u001b[1;33m:\u001b[0m\u001b[1;33m\u001b[0m\u001b[1;33m\u001b[0m\u001b[0m\n\u001b[0;32m     39\u001b[0m                 \u001b[0mujson\u001b[0m\u001b[1;33m.\u001b[0m\u001b[0mdump\u001b[0m\u001b[1;33m(\u001b[0m\u001b[0mdata\u001b[0m\u001b[1;33m,\u001b[0m \u001b[0mfile\u001b[0m\u001b[1;33m)\u001b[0m\u001b[1;33m\u001b[0m\u001b[1;33m\u001b[0m\u001b[0m\n",
      "\u001b[1;32m~\\anaconda3\\lib\\site-packages\\OSMPythonTools\\internal\\cacheObject.py\u001b[0m in \u001b[0;36m__query\u001b[1;34m(self, requestString, params)\u001b[0m\n\u001b[0;32m     85\u001b[0m             \u001b[0mmsg\u001b[0m \u001b[1;33m=\u001b[0m \u001b[1;34m'The requested data could not be downloaded. '\u001b[0m \u001b[1;33m+\u001b[0m \u001b[0mstr\u001b[0m\u001b[1;33m(\u001b[0m\u001b[0merr\u001b[0m\u001b[1;33m)\u001b[0m\u001b[1;33m\u001b[0m\u001b[1;33m\u001b[0m\u001b[0m\n\u001b[0;32m     86\u001b[0m             \u001b[0mOSMPythonTools\u001b[0m\u001b[1;33m.\u001b[0m\u001b[0mlogger\u001b[0m\u001b[1;33m.\u001b[0m\u001b[0mexception\u001b[0m\u001b[1;33m(\u001b[0m\u001b[0mmsg\u001b[0m\u001b[1;33m)\u001b[0m\u001b[1;33m\u001b[0m\u001b[1;33m\u001b[0m\u001b[0m\n\u001b[1;32m---> 87\u001b[1;33m             \u001b[1;32mraise\u001b[0m \u001b[0mException\u001b[0m\u001b[1;33m(\u001b[0m\u001b[0mmsg\u001b[0m\u001b[1;33m)\u001b[0m\u001b[1;33m\u001b[0m\u001b[1;33m\u001b[0m\u001b[0m\n\u001b[0m\u001b[0;32m     88\u001b[0m         \u001b[1;32mexcept\u001b[0m\u001b[1;33m:\u001b[0m\u001b[1;33m\u001b[0m\u001b[1;33m\u001b[0m\u001b[0m\n\u001b[0;32m     89\u001b[0m             \u001b[0mmsg\u001b[0m \u001b[1;33m=\u001b[0m \u001b[1;34m'The requested data could not be downloaded.  Please check whether your internet connection is working.'\u001b[0m\u001b[1;33m\u001b[0m\u001b[1;33m\u001b[0m\u001b[0m\n",
      "\u001b[1;31mException\u001b[0m: The requested data could not be downloaded. HTTP Error 400: Bad Request"
     ]
    }
   ],
   "source": [
    "result = overpass.query(\"\"\"way[\"name\"=\"Москва\"] -> .a;\n",
    "                            foreach.a -> .b(\n",
    "                            make stat length=length();\n",
    "                            out;\n",
    "                            );\"\"\")\n",
    "results = result.elements()\n",
    "len(results)"
   ]
  },
  {
   "cell_type": "code",
   "execution_count": null,
   "metadata": {},
   "outputs": [],
   "source": []
  }
 ],
 "metadata": {
  "kernelspec": {
   "display_name": "Python 3",
   "language": "python",
   "name": "python3"
  },
  "language_info": {
   "codemirror_mode": {
    "name": "ipython",
    "version": 3
   },
   "file_extension": ".py",
   "mimetype": "text/x-python",
   "name": "python",
   "nbconvert_exporter": "python",
   "pygments_lexer": "ipython3",
   "version": "3.8.3"
  }
 },
 "nbformat": 4,
 "nbformat_minor": 4
}
