{
 "cells": [
  {
   "cell_type": "code",
   "execution_count": 3,
   "metadata": {},
   "outputs": [],
   "source": [
    "import psycopg2\n",
    "import numpy as np\n",
    "import pandas as pd\n",
    "import matplotlib.pyplot as plt"
   ]
  },
  {
   "cell_type": "code",
   "execution_count": 4,
   "metadata": {},
   "outputs": [],
   "source": [
    "conn = psycopg2.connect(dbname='sociolinguistic', user='app', \n",
    "                        password='rfrfyl.babaloos', host='gisly.net')"
   ]
  },
  {
   "cell_type": "markdown",
   "metadata": {},
   "source": [
    "Интересующие нас таблицы:\n",
    "\n",
    "1. sociolinguistic_person\n",
    "    * id\n",
    "    * year_born\n",
    "    * place_born_id\n",
    "2. sociolinguistic_personplaces\n",
    "    * person_id\n",
    "    * place_id\n",
    "    * is_present\n",
    "    * year_from\n",
    "    * year_to\n",
    "3. sociolinguistic_personrelation\n",
    "     * person1_id\n",
    "     * person2_id\n",
    "     * relation_id\n",
    "4. sociolinguistic_relation\n",
    "    * id\n",
    "    * name\n",
    "5. sociolinguistic_questionnaire\n",
    "    * place_id\n",
    "    * person_id\n",
    "    * year\n",
    "6. sociolinguistic_place\n",
    "    * id\n",
    "    * latitude\n",
    "    * longitude"
   ]
  },
  {
   "cell_type": "markdown",
   "metadata": {},
   "source": [
    "### Проблема: недостаточно данных по таблице sociolinguistic_personplaces\n",
    "\n",
    "В базе присутствуют данные о выездах отдельных людей. Однако использовать их трудно.\n",
    "\n",
    "* нужно вручную валидировать данные и перенести некоторые из description: сделано\n",
    "* многие поля с заполненными годами относятся к армии, тюрьме, пансионатам. Имеет ли смысл учитывать такие данные?\n",
    "* непонятно, откуда переезд. Можно попробовать прикинуть по годам, но данных мало.\n",
    "* 800+ строк, заполнено годами только 84\n",
    "\n",
    "Однако в таблице есть данные о нахождении респондента в конкретном месте на момент опроса. Эту информацию мы могли бы использовать."
   ]
  },
  {
   "cell_type": "markdown",
   "metadata": {},
   "source": [
    "### Проблема: не проставлен год рождения\n",
    "\n",
    "У многих людей, особенно старшего поколения, не проставлена дата рождения. Эта информация понадобится нам для того, чтобы определить, в какой примерно период был совершен переезд. Опираясь на даты рождения младших родственников, мы можем прикинуть примерный год рождения, взяв за одно поколение 30 лет. Для удобства создадим view с тремя столбцами: id, year_born, is_presice.\n",
    "\n",
    "6. analytic_person_places\n",
    "    * id,\n",
    "    * year_born\n",
    "    * is_precise\n",
    "\n",
    "            select distinct q2.id,\n",
    "            case\n",
    "            when status = 'child' then q2.child_year_born\n",
    "            when status = 'parent'\n",
    "            and q2.parent_year_born_precise is not null then q2.parent_year_born_precise\n",
    "            when status = 'parent'\n",
    "            and q2.parent_year_born_precise is null then q2.parent_year_born_appr\n",
    "            when status = 'grandparent'\n",
    "            and q2.grandparent_year_born_precise is not null then q2.grandparent_year_born_precise\n",
    "            when status = 'grandparent'\n",
    "            and q2.grandparent_year_born_precise is null then q2.grandparent_year_born_appr\n",
    "\n",
    "            end as year_born,\n",
    "\n",
    "            case\n",
    "            when status = 'child' then true\n",
    "            when status = 'parent' and q2.parent_year_born_precise is not null then  true \n",
    "            when status = 'grandparent' and q2.grandparent_year_born_precise is not null then  true \n",
    "            else false end as is_precise\n",
    "\n",
    "            from \n",
    "            (\n",
    "            select sp.id,\n",
    "            case when sp.id = q.child_id then 'child'\n",
    "            when sp.id = q.parent_id then 'parent'\n",
    "            else 'grandparent' end as status,\n",
    "            q.child_year_born, q.parent_year_born_precise, q.parent_year_born_appr,\n",
    "            q.grandparent_year_born_precise, q.grandparent_year_born_appr\n",
    "            from sociolinguistic_person sp,\n",
    "            (\n",
    "            SELECT \n",
    "                  a.id as child_id, \n",
    "                  b.id as parent_id, \n",
    "                  c.id as grandparent_id,\n",
    "                  a.year_born AS child_year_born,\n",
    "                  b.year_born AS parent_year_born_precise, \n",
    "                  (a.year_born - 30) AS parent_year_born_appr,\n",
    "                   c.year_born AS grandparent_year_born_precise, \n",
    "                  (a.year_born - 60) AS grandparent_year_born_appr,\n",
    "                  r.name as r1_name, \n",
    "                  r2.name as r2_name\n",
    "              from sociolinguistic_person as a\n",
    "              join sociolinguistic_personrelation as pr\n",
    "              on a.id = pr.person1_id \n",
    "              join sociolinguistic_person as b\n",
    "              on b.id = pr.person2_id \n",
    "              join sociolinguistic_relation as r\n",
    "              on r.id = pr.relation_id \n",
    "\n",
    "              left join sociolinguistic_personrelation as pr2\n",
    "              on pr2.person1_id = b.id\n",
    "              left join sociolinguistic_person as c\n",
    "              on pr2.person2_id  = c.id \n",
    "              join sociolinguistic_relation as r2\n",
    "              on r2.id = pr2.relation_id \n",
    "\n",
    "              where a.year_born in (select min (a3.year_born)\n",
    "\n",
    "              from sociolinguistic_person as a3\n",
    "              join sociolinguistic_personrelation as pr3\n",
    "              on a3.id = pr3.person1_id \n",
    "              join sociolinguistic_person as b3\n",
    "              on b3.id = pr3.person2_id \n",
    "              join sociolinguistic_relation as r3\n",
    "              on r3.id = pr3.relation_id\n",
    "\n",
    "              where r3.name != 'spouse'\n",
    "              and b3.id = b.id)\n",
    "\n",
    "              and r.name != 'spouse'\n",
    "              and r2.name != 'spouse'\n",
    "\n",
    "              order by 1, r1_name, r2_name\n",
    "              ) q where sp.id = q.child_id\n",
    "              or sp.id = q.parent_id\n",
    "              or sp.id = q.grandparent_id\n",
    "             ) q2"
   ]
  },
  {
   "cell_type": "markdown",
   "metadata": {},
   "source": [
    "### Выбор родственных отношений между родителями и детьми\n",
    "\n",
    "Создадим подзапрос, в котором исключим родственные отношения между супругами.\n",
    "\n",
    "    WITH parent_relations AS(\n",
    "    SELECT \n",
    "        a.person1_id AS child, \n",
    "        a.person2_id AS parent\n",
    "    FROM sociolinguistic_personrelation AS a\n",
    "        LEFT JOIN sociolinguistic_relation AS b\n",
    "        ON a.relation_id=b.id\n",
    "    WHERE b.name IN ('mother', 'father')\n",
    "    )\n"
   ]
  },
  {
   "cell_type": "markdown",
   "metadata": {},
   "source": [
    "### Обогащение информацией\n",
    "\n",
    "* о годе рождения,\n",
    "* о месте рождения,\n",
    "* о месте и времени проведения опроса,\n",
    "* о статусе is_present в каком-либо из мест.\n",
    "\n",
    "    WITH full_data AS (\n",
    "        SELECT \n",
    "            a.child,\n",
    "            b.year_born AS child_year_born,\n",
    "            d.place_born_id AS child_place_born_id,\n",
    "            f.year AS child_year_questionnaire,\n",
    "            f.place_id AS child_place_questionnaire,\n",
    "            h.place_id AS child_present_place,\n",
    "            a.parent,\n",
    "            c.year_born AS parent_year_born,\n",
    "            e.place_born_id AS parent_place_born_id,\n",
    "            g.year AS parent_year_questionnaire,\n",
    "            g.place_id AS parent_place_questionnaire,\n",
    "            i.place_id AS parent_present_place\n",
    "        FROM parent_relations AS a\n",
    "            LEFT JOIN analytic_person_places AS b\n",
    "            ON a.child=b.id\n",
    "            LEFT JOIN analytic_person_places AS c\n",
    "            ON a.parent=c.id\n",
    "            LEFT JOIN sociolinguistic_person AS d\n",
    "            ON a.child=d.id\n",
    "            LEFT JOIN sociolinguistic_person AS e\n",
    "            ON a.parent=e.id\n",
    "            LEFT JOIN sociolinguistic_questionnaire AS f\n",
    "            ON a.child=f.person_id\n",
    "            LEFT JOIN sociolinguistic_questionnaire AS g\n",
    "            ON a.parent=g.person_id\n",
    "            LEFT JOIN sociolinguistic_personplaces AS h\n",
    "            ON h.is_present=True AND a.child=h.person_id\n",
    "            LEFT JOIN sociolinguistic_personplaces AS i\n",
    "            ON i.is_present=True AND a.parent=i.person_id\n",
    "    )"
   ]
  },
  {
   "cell_type": "markdown",
   "metadata": {},
   "source": [
    "### Определение периодов для переезда и обогащение координатами\n",
    "\n",
    "1. Различаются place_born_id и COALESCE(present_place, place_questionnaire):\n",
    "\n",
    "        SELECT \n",
    "            child AS person, \n",
    "            child_place_born_id AS from_place,\n",
    "            child_year_born AS from_year,\n",
    "            COALESCE(child_present_place, child_place_questionnaire) AS to_place,\n",
    "            child_year_questionnaire AS to_year\n",
    "        FROM full_data\n",
    "        WHERE \n",
    "            child_place_born_id IS NOT NULL\n",
    "            AND COALESCE(child_present_place, child_place_questionnaire) IS NOT NULL\n",
    "            AND child_year_born IS NOT NULL\n",
    "            AND child_year_questionnaire IS NOT NULL\n",
    "            AND child_place_born_id != COALESCE(child_present_place, child_place_questionnaire)\n",
    "\n",
    "        UNION ALL\n",
    "\n",
    "        SELECT \n",
    "            parent AS person, \n",
    "            parent_place_born_id AS from_place,\n",
    "            parent_year_born AS from_year,\n",
    "            COALESCE(parent_present_place, parent_place_questionnaire) AS to_place,\n",
    "            parent_year_questionnaire AS to_year\n",
    "        FROM full_data\n",
    "        WHERE \n",
    "            parent_place_born_id IS NOT NULL\n",
    "            AND COALESCE(parent_present_place, parent_place_questionnaire) IS NOT NULL\n",
    "            AND parent_year_born IS NOT NULL\n",
    "            AND parent_year_questionnaire IS NOT NULL\n",
    "            AND parent_place_born_id != COALESCE(child_present_place, child_place_questionnaire)\n",
    "\n",
    "2. Различаются parent_place_born_id и child_place_born_id\n",
    "        \n",
    "        UNION ALL\n",
    "\n",
    "        SELECT\n",
    "            parent AS person,\n",
    "            parent_place_born_id AS from_place,\n",
    "            parent_year_born AS from_year,\n",
    "            child_place_born_id AS to_place,\n",
    "            child_year_born AS to_year\n",
    "        FROM full_data\n",
    "        WHERE \n",
    "            parent_place_born_id IS NOT NULL\n",
    "            AND parent_year_born IS NOT NULL\n",
    "            AND child_place_born_id IS NOT NULL\n",
    "            AND child_year_born IS NOT NULL\n",
    "            AND parent_place_born_id != child_place_born_id \n",
    "\n",
    "3. Обогащение координатами и наименованием места, где united — все выбранные периоды.\n",
    "    \n",
    "        SELECT \n",
    "            a.person,\n",
    "            a.from_place,\n",
    "            b.longitude AS from_longitude,\n",
    "            b.latitude AS from_latitude,\n",
    "            b.name AS from_place_name,\n",
    "            a.from_year,\n",
    "            a.to_place,\n",
    "            c.longitude AS to_longitude,\n",
    "            c.latitude AS to_latitude,\n",
    "            c.name AS to_place_name,\n",
    "            a.to_year\n",
    "            \n",
    "        FROM united AS a\n",
    "            LEFT JOIN sociolinguistic_place AS b\n",
    "            ON a.from_place=b.id\n",
    "            LEFT JOIN sociolinguistic_place AS c\n",
    "            ON a.to_place=c.id\n",
    "\n",
    "drop_duplicates"
   ]
  },
  {
   "cell_type": "code",
   "execution_count": 5,
   "metadata": {},
   "outputs": [],
   "source": [
    "df = pd.read_sql(\"\"\"\n",
    "WITH full_data AS (\n",
    "\n",
    "  SELECT \n",
    "      a.child,\n",
    "      b.year_born AS child_year_born,\n",
    "      d.place_born_id AS child_place_born_id,\n",
    "      f.year AS child_year_questionnaire,\n",
    "      f.place_id AS child_place_questionnaire,\n",
    "      h.place_id AS child_present_place,\n",
    "      a.parent,\n",
    "      c.year_born AS parent_year_born,\n",
    "      e.place_born_id AS parent_place_born_id,\n",
    "      g.year AS parent_year_questionnaire,\n",
    "      g.place_id AS parent_place_questionnaire,\n",
    "      i.place_id AS parent_present_place\n",
    "  FROM (SELECT \n",
    "            a.person1_id AS child, \n",
    "            a.person2_id AS parent\n",
    "        FROM sociolinguistic_personrelation AS a\n",
    "            LEFT JOIN sociolinguistic_relation AS b\n",
    "            ON a.relation_id=b.id\n",
    "        WHERE b.name IN ('mother', 'father')) AS a\n",
    "      LEFT JOIN analytic_person_places AS b\n",
    "      ON a.child=b.id\n",
    "      LEFT JOIN analytic_person_places AS c\n",
    "      ON a.parent=c.id\n",
    "      LEFT JOIN sociolinguistic_person AS d\n",
    "      ON a.child=d.id\n",
    "      LEFT JOIN sociolinguistic_person AS e\n",
    "      ON a.parent=e.id\n",
    "      LEFT JOIN sociolinguistic_questionnaire AS f\n",
    "      ON a.child=f.person_id\n",
    "      LEFT JOIN sociolinguistic_questionnaire AS g\n",
    "      ON a.parent=g.person_id\n",
    "      LEFT JOIN sociolinguistic_personplaces AS h\n",
    "      ON h.is_present=True AND a.child=h.person_id\n",
    "      LEFT JOIN sociolinguistic_personplaces AS i\n",
    "      ON i.is_present=True AND a.parent=i.person_id\n",
    ")\n",
    "\n",
    "SELECT \n",
    "    a.person,\n",
    "    a.from_place,\n",
    "    b.longitude AS from_longitude,\n",
    "    b.latitude AS from_latitude,\n",
    "    b.name AS from_place_name,\n",
    "    a.from_year,\n",
    "    a.to_place,\n",
    "    c.longitude AS to_longitude,\n",
    "    c.latitude AS to_latitude,\n",
    "    c.name AS to_place_name,\n",
    "    a.to_year\n",
    "FROM (\n",
    "    SELECT \n",
    "         child AS person, \n",
    "         child_place_born_id AS from_place,\n",
    "         child_year_born AS from_year,\n",
    "         COALESCE(child_present_place, child_place_questionnaire) AS to_place,\n",
    "         child_year_questionnaire AS to_year\n",
    "     FROM full_data\n",
    "     WHERE \n",
    "         child_place_born_id IS NOT NULL\n",
    "         AND COALESCE(child_present_place, child_place_questionnaire) IS NOT NULL\n",
    "         AND child_year_born IS NOT NULL\n",
    "         AND child_year_questionnaire IS NOT NULL\n",
    "         AND child_place_born_id != COALESCE(child_present_place, child_place_questionnaire)\n",
    "\n",
    "     UNION ALL\n",
    "\n",
    "     SELECT \n",
    "         parent AS person, \n",
    "         parent_place_born_id AS from_place,\n",
    "         parent_year_born AS from_year,\n",
    "         COALESCE(parent_present_place, parent_place_questionnaire) AS to_place,\n",
    "         parent_year_questionnaire AS to_year\n",
    "     FROM full_data\n",
    "     WHERE \n",
    "         parent_place_born_id IS NOT NULL\n",
    "         AND COALESCE(parent_present_place, parent_place_questionnaire) IS NOT NULL\n",
    "         AND parent_year_born IS NOT NULL\n",
    "         AND parent_year_questionnaire IS NOT NULL\n",
    "         AND parent_place_born_id != COALESCE(child_present_place, child_place_questionnaire)\n",
    "\n",
    "    UNION ALL\n",
    "\n",
    "    SELECT\n",
    "         parent AS person,\n",
    "         parent_place_born_id AS from_place,\n",
    "         parent_year_born AS from_year,\n",
    "         child_place_born_id AS to_place,\n",
    "         child_year_born AS to_year\n",
    "     FROM full_data\n",
    "     WHERE \n",
    "         parent_place_born_id IS NOT NULL\n",
    "         AND parent_year_born IS NOT NULL\n",
    "         AND child_place_born_id IS NOT NULL\n",
    "         AND child_year_born IS NOT NULL\n",
    "         AND parent_place_born_id != child_place_born_id) AS a\n",
    "        LEFT JOIN sociolinguistic_place AS b\n",
    "        ON a.from_place=b.id\n",
    "        LEFT JOIN sociolinguistic_place AS c\n",
    "        ON a.to_place=c.id\n",
    "\"\"\", conn)"
   ]
  },
  {
   "cell_type": "code",
   "execution_count": 6,
   "metadata": {},
   "outputs": [],
   "source": [
    "df = df.drop_duplicates()"
   ]
  },
  {
   "cell_type": "markdown",
   "metadata": {},
   "source": [
    "### Проверка данных\n",
    "Проверим, есть ли повторяющиеся передвижения."
   ]
  },
  {
   "cell_type": "code",
   "execution_count": 7,
   "metadata": {},
   "outputs": [
    {
     "data": {
      "text/plain": [
       "array([1], dtype=int64)"
      ]
     },
     "execution_count": 7,
     "metadata": {},
     "output_type": "execute_result"
    }
   ],
   "source": [
    "df.groupby(['person', 'from_place', 'to_place']).count()['from_year'].unique()"
   ]
  },
  {
   "cell_type": "code",
   "execution_count": 8,
   "metadata": {},
   "outputs": [
    {
     "data": {
      "text/plain": [
       "array([1], dtype=int64)"
      ]
     },
     "execution_count": 8,
     "metadata": {},
     "output_type": "execute_result"
    }
   ],
   "source": [
    "df.groupby(['person', 'from_place']).count()['from_year'].unique()"
   ]
  },
  {
   "cell_type": "code",
   "execution_count": 9,
   "metadata": {},
   "outputs": [
    {
     "data": {
      "text/plain": [
       "array([1], dtype=int64)"
      ]
     },
     "execution_count": 9,
     "metadata": {},
     "output_type": "execute_result"
    }
   ],
   "source": [
    "df.groupby(['person', 'to_place']).count()['from_year'].unique()"
   ]
  },
  {
   "cell_type": "code",
   "execution_count": 10,
   "metadata": {},
   "outputs": [
    {
     "data": {
      "text/plain": [
       "array([1], dtype=int64)"
      ]
     },
     "execution_count": 10,
     "metadata": {},
     "output_type": "execute_result"
    }
   ],
   "source": [
    "df.groupby(['person']).count()['from_year'].unique()"
   ]
  },
  {
   "cell_type": "markdown",
   "metadata": {},
   "source": [
    "Нет, каждое перемещение отображает отдельного человека, наложения отсутствуют.\n",
    "\n",
    "Проверим на наличие ошибок:\n",
    "    * совпадают место отправления и место назначения\n",
    "    * перепутаны местами from_year и to_year"
   ]
  },
  {
   "cell_type": "code",
   "execution_count": 11,
   "metadata": {},
   "outputs": [
    {
     "data": {
      "text/html": [
       "<div>\n",
       "<style scoped>\n",
       "    .dataframe tbody tr th:only-of-type {\n",
       "        vertical-align: middle;\n",
       "    }\n",
       "\n",
       "    .dataframe tbody tr th {\n",
       "        vertical-align: top;\n",
       "    }\n",
       "\n",
       "    .dataframe thead th {\n",
       "        text-align: right;\n",
       "    }\n",
       "</style>\n",
       "<table border=\"1\" class=\"dataframe\">\n",
       "  <thead>\n",
       "    <tr style=\"text-align: right;\">\n",
       "      <th></th>\n",
       "      <th>person</th>\n",
       "      <th>from_place</th>\n",
       "      <th>from_longitude</th>\n",
       "      <th>from_latitude</th>\n",
       "      <th>from_place_name</th>\n",
       "      <th>from_year</th>\n",
       "      <th>to_place</th>\n",
       "      <th>to_longitude</th>\n",
       "      <th>to_latitude</th>\n",
       "      <th>to_place_name</th>\n",
       "      <th>to_year</th>\n",
       "    </tr>\n",
       "  </thead>\n",
       "  <tbody>\n",
       "  </tbody>\n",
       "</table>\n",
       "</div>"
      ],
      "text/plain": [
       "Empty DataFrame\n",
       "Columns: [person, from_place, from_longitude, from_latitude, from_place_name, from_year, to_place, to_longitude, to_latitude, to_place_name, to_year]\n",
       "Index: []"
      ]
     },
     "execution_count": 11,
     "metadata": {},
     "output_type": "execute_result"
    }
   ],
   "source": [
    "df[df['from_place'] == df['to_place']]"
   ]
  },
  {
   "cell_type": "code",
   "execution_count": 12,
   "metadata": {},
   "outputs": [
    {
     "data": {
      "text/html": [
       "<div>\n",
       "<style scoped>\n",
       "    .dataframe tbody tr th:only-of-type {\n",
       "        vertical-align: middle;\n",
       "    }\n",
       "\n",
       "    .dataframe tbody tr th {\n",
       "        vertical-align: top;\n",
       "    }\n",
       "\n",
       "    .dataframe thead th {\n",
       "        text-align: right;\n",
       "    }\n",
       "</style>\n",
       "<table border=\"1\" class=\"dataframe\">\n",
       "  <thead>\n",
       "    <tr style=\"text-align: right;\">\n",
       "      <th></th>\n",
       "      <th>person</th>\n",
       "      <th>from_place</th>\n",
       "      <th>from_longitude</th>\n",
       "      <th>from_latitude</th>\n",
       "      <th>from_place_name</th>\n",
       "      <th>from_year</th>\n",
       "      <th>to_place</th>\n",
       "      <th>to_longitude</th>\n",
       "      <th>to_latitude</th>\n",
       "      <th>to_place_name</th>\n",
       "      <th>to_year</th>\n",
       "    </tr>\n",
       "  </thead>\n",
       "  <tbody>\n",
       "  </tbody>\n",
       "</table>\n",
       "</div>"
      ],
      "text/plain": [
       "Empty DataFrame\n",
       "Columns: [person, from_place, from_longitude, from_latitude, from_place_name, from_year, to_place, to_longitude, to_latitude, to_place_name, to_year]\n",
       "Index: []"
      ]
     },
     "execution_count": 12,
     "metadata": {},
     "output_type": "execute_result"
    }
   ],
   "source": [
    "df[df['from_year'] > df['to_year']]"
   ]
  },
  {
   "cell_type": "markdown",
   "metadata": {},
   "source": [
    "Проверим полноту данных."
   ]
  },
  {
   "cell_type": "code",
   "execution_count": 13,
   "metadata": {},
   "outputs": [
    {
     "data": {
      "text/html": [
       "<div>\n",
       "<style scoped>\n",
       "    .dataframe tbody tr th:only-of-type {\n",
       "        vertical-align: middle;\n",
       "    }\n",
       "\n",
       "    .dataframe tbody tr th {\n",
       "        vertical-align: top;\n",
       "    }\n",
       "\n",
       "    .dataframe thead th {\n",
       "        text-align: right;\n",
       "    }\n",
       "</style>\n",
       "<table border=\"1\" class=\"dataframe\">\n",
       "  <thead>\n",
       "    <tr style=\"text-align: right;\">\n",
       "      <th></th>\n",
       "      <th>person</th>\n",
       "      <th>from_place</th>\n",
       "      <th>from_longitude</th>\n",
       "      <th>from_latitude</th>\n",
       "      <th>from_place_name</th>\n",
       "      <th>from_year</th>\n",
       "      <th>to_place</th>\n",
       "      <th>to_longitude</th>\n",
       "      <th>to_latitude</th>\n",
       "      <th>to_place_name</th>\n",
       "      <th>to_year</th>\n",
       "    </tr>\n",
       "  </thead>\n",
       "  <tbody>\n",
       "    <tr>\n",
       "      <th>0</th>\n",
       "      <td>37088</td>\n",
       "      <td>4869</td>\n",
       "      <td>NaN</td>\n",
       "      <td>NaN</td>\n",
       "      <td>Устье</td>\n",
       "      <td>1960</td>\n",
       "      <td>4864</td>\n",
       "      <td>143.1078</td>\n",
       "      <td>49.2388</td>\n",
       "      <td>Поронайск</td>\n",
       "      <td>2017</td>\n",
       "    </tr>\n",
       "    <tr>\n",
       "      <th>2</th>\n",
       "      <td>37097</td>\n",
       "      <td>4872</td>\n",
       "      <td>NaN</td>\n",
       "      <td>NaN</td>\n",
       "      <td>Речное</td>\n",
       "      <td>1952</td>\n",
       "      <td>4864</td>\n",
       "      <td>143.1078</td>\n",
       "      <td>49.2388</td>\n",
       "      <td>Поронайск</td>\n",
       "      <td>2017</td>\n",
       "    </tr>\n",
       "    <tr>\n",
       "      <th>16</th>\n",
       "      <td>37232</td>\n",
       "      <td>4898</td>\n",
       "      <td>NaN</td>\n",
       "      <td>NaN</td>\n",
       "      <td>Минабэцу (Птичье), Корсаковский р-н</td>\n",
       "      <td>1936</td>\n",
       "      <td>4864</td>\n",
       "      <td>143.1078</td>\n",
       "      <td>49.2388</td>\n",
       "      <td>Поронайск</td>\n",
       "      <td>2017</td>\n",
       "    </tr>\n",
       "    <tr>\n",
       "      <th>20</th>\n",
       "      <td>37284</td>\n",
       "      <td>4907</td>\n",
       "      <td>NaN</td>\n",
       "      <td>NaN</td>\n",
       "      <td>с. Симаси, Комсомольский р-н, Хабаровский край</td>\n",
       "      <td>1932</td>\n",
       "      <td>4864</td>\n",
       "      <td>143.1078</td>\n",
       "      <td>49.2388</td>\n",
       "      <td>Поронайск</td>\n",
       "      <td>2017</td>\n",
       "    </tr>\n",
       "    <tr>\n",
       "      <th>24</th>\n",
       "      <td>37302</td>\n",
       "      <td>4911</td>\n",
       "      <td>NaN</td>\n",
       "      <td>NaN</td>\n",
       "      <td>с. Падали (ныне город Амурск), Хабаровский край</td>\n",
       "      <td>1933</td>\n",
       "      <td>4864</td>\n",
       "      <td>143.1078</td>\n",
       "      <td>49.2388</td>\n",
       "      <td>Поронайск</td>\n",
       "      <td>2017</td>\n",
       "    </tr>\n",
       "    <tr>\n",
       "      <th>...</th>\n",
       "      <td>...</td>\n",
       "      <td>...</td>\n",
       "      <td>...</td>\n",
       "      <td>...</td>\n",
       "      <td>...</td>\n",
       "      <td>...</td>\n",
       "      <td>...</td>\n",
       "      <td>...</td>\n",
       "      <td>...</td>\n",
       "      <td>...</td>\n",
       "      <td>...</td>\n",
       "    </tr>\n",
       "    <tr>\n",
       "      <th>1579</th>\n",
       "      <td>41352</td>\n",
       "      <td>5459</td>\n",
       "      <td>NaN</td>\n",
       "      <td>NaN</td>\n",
       "      <td>Хайзаран</td>\n",
       "      <td>1875</td>\n",
       "      <td>5457</td>\n",
       "      <td>NaN</td>\n",
       "      <td>NaN</td>\n",
       "      <td>пос. Хайзаран, Баяндаевский р-н</td>\n",
       "      <td>1905</td>\n",
       "    </tr>\n",
       "    <tr>\n",
       "      <th>1581</th>\n",
       "      <td>41363</td>\n",
       "      <td>5210</td>\n",
       "      <td>NaN</td>\n",
       "      <td>NaN</td>\n",
       "      <td>Алтайский край</td>\n",
       "      <td>1944</td>\n",
       "      <td>3179</td>\n",
       "      <td>105.8799</td>\n",
       "      <td>53.9612</td>\n",
       "      <td>Качуг</td>\n",
       "      <td>1974</td>\n",
       "    </tr>\n",
       "    <tr>\n",
       "      <th>1582</th>\n",
       "      <td>41366</td>\n",
       "      <td>4878</td>\n",
       "      <td>NaN</td>\n",
       "      <td>NaN</td>\n",
       "      <td>Сахалин</td>\n",
       "      <td>1914</td>\n",
       "      <td>5210</td>\n",
       "      <td>NaN</td>\n",
       "      <td>NaN</td>\n",
       "      <td>Алтайский край</td>\n",
       "      <td>1944</td>\n",
       "    </tr>\n",
       "    <tr>\n",
       "      <th>1583</th>\n",
       "      <td>41368</td>\n",
       "      <td>5462</td>\n",
       "      <td>NaN</td>\n",
       "      <td>NaN</td>\n",
       "      <td>Европейская часть России</td>\n",
       "      <td>1914</td>\n",
       "      <td>5461</td>\n",
       "      <td>71.5082</td>\n",
       "      <td>56.0052</td>\n",
       "      <td>Крутинка, Омская область</td>\n",
       "      <td>1944</td>\n",
       "    </tr>\n",
       "    <tr>\n",
       "      <th>1584</th>\n",
       "      <td>41367</td>\n",
       "      <td>5462</td>\n",
       "      <td>NaN</td>\n",
       "      <td>NaN</td>\n",
       "      <td>Европейская часть России</td>\n",
       "      <td>1914</td>\n",
       "      <td>5461</td>\n",
       "      <td>71.5082</td>\n",
       "      <td>56.0052</td>\n",
       "      <td>Крутинка, Омская область</td>\n",
       "      <td>1944</td>\n",
       "    </tr>\n",
       "  </tbody>\n",
       "</table>\n",
       "<p>798 rows × 11 columns</p>\n",
       "</div>"
      ],
      "text/plain": [
       "      person  from_place  from_longitude  from_latitude  \\\n",
       "0      37088        4869             NaN            NaN   \n",
       "2      37097        4872             NaN            NaN   \n",
       "16     37232        4898             NaN            NaN   \n",
       "20     37284        4907             NaN            NaN   \n",
       "24     37302        4911             NaN            NaN   \n",
       "...      ...         ...             ...            ...   \n",
       "1579   41352        5459             NaN            NaN   \n",
       "1581   41363        5210             NaN            NaN   \n",
       "1582   41366        4878             NaN            NaN   \n",
       "1583   41368        5462             NaN            NaN   \n",
       "1584   41367        5462             NaN            NaN   \n",
       "\n",
       "                                      from_place_name  from_year  to_place  \\\n",
       "0                                               Устье       1960      4864   \n",
       "2                                              Речное       1952      4864   \n",
       "16                Минабэцу (Птичье), Корсаковский р-н       1936      4864   \n",
       "20     с. Симаси, Комсомольский р-н, Хабаровский край       1932      4864   \n",
       "24    с. Падали (ныне город Амурск), Хабаровский край       1933      4864   \n",
       "...                                               ...        ...       ...   \n",
       "1579                                         Хайзаран       1875      5457   \n",
       "1581                                   Алтайский край       1944      3179   \n",
       "1582                                          Сахалин       1914      5210   \n",
       "1583                         Европейская часть России       1914      5461   \n",
       "1584                         Европейская часть России       1914      5461   \n",
       "\n",
       "      to_longitude  to_latitude                    to_place_name  to_year  \n",
       "0         143.1078      49.2388                        Поронайск     2017  \n",
       "2         143.1078      49.2388                        Поронайск     2017  \n",
       "16        143.1078      49.2388                        Поронайск     2017  \n",
       "20        143.1078      49.2388                        Поронайск     2017  \n",
       "24        143.1078      49.2388                        Поронайск     2017  \n",
       "...            ...          ...                              ...      ...  \n",
       "1579           NaN          NaN  пос. Хайзаран, Баяндаевский р-н     1905  \n",
       "1581      105.8799      53.9612                            Качуг     1974  \n",
       "1582           NaN          NaN                   Алтайский край     1944  \n",
       "1583       71.5082      56.0052         Крутинка, Омская область     1944  \n",
       "1584       71.5082      56.0052         Крутинка, Омская область     1944  \n",
       "\n",
       "[798 rows x 11 columns]"
      ]
     },
     "execution_count": 13,
     "metadata": {},
     "output_type": "execute_result"
    }
   ],
   "source": [
    "df[(df['from_longitude'].isna())\n",
    "  |(df['from_latitude'].isna())\n",
    "  |(df['to_longitude'].isna())\n",
    "  |(df['to_latitude'].isna())]"
   ]
  },
  {
   "cell_type": "markdown",
   "metadata": {},
   "source": [
    "Данные неполные. Выгрузим id мест, о которых нет данных, и попробуем заполнить их координаты вручную."
   ]
  },
  {
   "cell_type": "code",
   "execution_count": 14,
   "metadata": {},
   "outputs": [],
   "source": [
    "from_places = df[(df['from_longitude'].isna())\n",
    "  |(df['from_latitude'].isna())]['from_place'].unique().tolist()\n",
    "to_places = df[(df['to_longitude'].isna())\n",
    "  |(df['to_latitude'].isna())]['to_place'].unique().tolist()\n",
    "places = from_places + to_places\n",
    "places = set(places)"
   ]
  },
  {
   "cell_type": "code",
   "execution_count": 15,
   "metadata": {},
   "outputs": [
    {
     "name": "stdout",
     "output_type": "stream",
     "text": [
      "Количество мест с незаполненными координатами: 305]\n"
     ]
    }
   ],
   "source": [
    "print('Количество мест с незаполненными координатами: {}]'.format(len(places)))"
   ]
  },
  {
   "cell_type": "code",
   "execution_count": 16,
   "metadata": {},
   "outputs": [
    {
     "name": "stdout",
     "output_type": "stream",
     "text": [
      "Всего уникальных мест: 522\n"
     ]
    }
   ],
   "source": [
    "all_places = df['from_place'].unique().tolist() + df['to_place'].unique().tolist()\n",
    "all_places = set(all_places)\n",
    "print('Всего уникальных мест: {}'.format(len(all_places)))"
   ]
  },
  {
   "cell_type": "markdown",
   "metadata": {},
   "source": [
    "Локально соберем общую сводку с местами."
   ]
  },
  {
   "cell_type": "code",
   "execution_count": 17,
   "metadata": {},
   "outputs": [],
   "source": [
    "missed_coordinates = pd.read_excel('missed_coordinates.xlsx')"
   ]
  },
  {
   "cell_type": "code",
   "execution_count": 18,
   "metadata": {},
   "outputs": [
    {
     "data": {
      "text/html": [
       "<div>\n",
       "<style scoped>\n",
       "    .dataframe tbody tr th:only-of-type {\n",
       "        vertical-align: middle;\n",
       "    }\n",
       "\n",
       "    .dataframe tbody tr th {\n",
       "        vertical-align: top;\n",
       "    }\n",
       "\n",
       "    .dataframe thead th {\n",
       "        text-align: right;\n",
       "    }\n",
       "</style>\n",
       "<table border=\"1\" class=\"dataframe\">\n",
       "  <thead>\n",
       "    <tr style=\"text-align: right;\">\n",
       "      <th></th>\n",
       "      <th>id</th>\n",
       "      <th>name</th>\n",
       "      <th>latitude</th>\n",
       "      <th>longitude</th>\n",
       "      <th>is_coords_approximate</th>\n",
       "      <th>comment</th>\n",
       "    </tr>\n",
       "  </thead>\n",
       "  <tbody>\n",
       "    <tr>\n",
       "      <th>0</th>\n",
       "      <td>5139</td>\n",
       "      <td>0</td>\n",
       "      <td>NaN</td>\n",
       "      <td>NaN</td>\n",
       "      <td>NaN</td>\n",
       "      <td>?</td>\n",
       "    </tr>\n",
       "    <tr>\n",
       "      <th>1</th>\n",
       "      <td>5363</td>\n",
       "      <td>?</td>\n",
       "      <td>NaN</td>\n",
       "      <td>NaN</td>\n",
       "      <td>NaN</td>\n",
       "      <td>?</td>\n",
       "    </tr>\n",
       "    <tr>\n",
       "      <th>2</th>\n",
       "      <td>5372</td>\n",
       "      <td>[посёлок] на р. Лена</td>\n",
       "      <td>NaN</td>\n",
       "      <td>NaN</td>\n",
       "      <td>NaN</td>\n",
       "      <td>не определить</td>\n",
       "    </tr>\n",
       "    <tr>\n",
       "      <th>3</th>\n",
       "      <td>5443</td>\n",
       "      <td>60 км. От Ербогачена</td>\n",
       "      <td>NaN</td>\n",
       "      <td>NaN</td>\n",
       "      <td>NaN</td>\n",
       "      <td>не определить</td>\n",
       "    </tr>\n",
       "    <tr>\n",
       "      <th>4</th>\n",
       "      <td>5107</td>\n",
       "      <td>Авдотья: Кислокан; Марина: Хамакар</td>\n",
       "      <td>NaN</td>\n",
       "      <td>NaN</td>\n",
       "      <td>NaN</td>\n",
       "      <td>ошибка данных</td>\n",
       "    </tr>\n",
       "  </tbody>\n",
       "</table>\n",
       "</div>"
      ],
      "text/plain": [
       "     id                                name latitude  longitude  \\\n",
       "0  5139                                   0      NaN        NaN   \n",
       "1  5363                                   ?      NaN        NaN   \n",
       "2  5372                [посёлок] на р. Лена      NaN        NaN   \n",
       "3  5443                60 км. От Ербогачена      NaN        NaN   \n",
       "4  5107  Авдотья: Кислокан; Марина: Хамакар      NaN        NaN   \n",
       "\n",
       "  is_coords_approximate        comment  \n",
       "0                   NaN              ?  \n",
       "1                   NaN              ?  \n",
       "2                   NaN  не определить  \n",
       "3                   NaN  не определить  \n",
       "4                   NaN  ошибка данных  "
      ]
     },
     "execution_count": 18,
     "metadata": {},
     "output_type": "execute_result"
    }
   ],
   "source": [
    "missed_coordinates.head(5)"
   ]
  },
  {
   "cell_type": "code",
   "execution_count": 19,
   "metadata": {},
   "outputs": [
    {
     "data": {
      "text/plain": [
       "(217, 4)"
      ]
     },
     "execution_count": 19,
     "metadata": {},
     "output_type": "execute_result"
    }
   ],
   "source": [
    "coordinates_from = df[['from_place', 'from_longitude', 'from_latitude', 'from_place_name']].rename(columns={\n",
    "    'from_place': 'id', \n",
    "    'from_longitude': 'longitude', \n",
    "    'from_latitude': 'latitude',\n",
    "    'from_place_name': 'name'\n",
    "})\n",
    "coordinates_to = df[['to_place', 'to_longitude', 'to_latitude', 'to_place_name']].rename(columns={\n",
    "    'to_place': 'id', \n",
    "    'to_longitude': 'longitude', \n",
    "    'to_latitude': 'latitude',\n",
    "    'to_place_name': 'name'\n",
    "})\n",
    "coordinates = pd.concat([coordinates_from, coordinates_to]).drop_duplicates()\n",
    "coordinates = coordinates[coordinates['longitude'].isna() == False]\n",
    "coordinates.shape"
   ]
  },
  {
   "cell_type": "code",
   "execution_count": 20,
   "metadata": {},
   "outputs": [],
   "source": [
    "coordinates = pd.concat([missed_coordinates, coordinates])"
   ]
  },
  {
   "cell_type": "code",
   "execution_count": 21,
   "metadata": {},
   "outputs": [
    {
     "data": {
      "text/plain": [
       "(448, 6)"
      ]
     },
     "execution_count": 21,
     "metadata": {},
     "output_type": "execute_result"
    }
   ],
   "source": [
    "coordinates = coordinates[coordinates['longitude'].isna() == False].reset_index(drop=True)\n",
    "coordinates.shape"
   ]
  },
  {
   "cell_type": "markdown",
   "metadata": {},
   "source": [
    "Всего уникальных координатных точек."
   ]
  },
  {
   "cell_type": "code",
   "execution_count": 22,
   "metadata": {},
   "outputs": [
    {
     "data": {
      "text/plain": [
       "(362, 4)"
      ]
     },
     "execution_count": 22,
     "metadata": {},
     "output_type": "execute_result"
    }
   ],
   "source": [
    "coordinates.groupby(['latitude', 'longitude']).count().shape"
   ]
  },
  {
   "cell_type": "code",
   "execution_count": 21,
   "metadata": {},
   "outputs": [],
   "source": [
    "coordinates.to_excel('coordinates.xlsx', index=False)"
   ]
  },
  {
   "cell_type": "markdown",
   "metadata": {},
   "source": [
    "Просмотрим наименования мест в общей таблице и отредактируем вручную.\n",
    "\n",
    "Соберем новую таблицу с периодами."
   ]
  },
  {
   "cell_type": "code",
   "execution_count": 23,
   "metadata": {},
   "outputs": [],
   "source": [
    "coordinates = pd.read_excel('coordinates_edited.xlsx')"
   ]
  },
  {
   "cell_type": "code",
   "execution_count": 24,
   "metadata": {},
   "outputs": [],
   "source": [
    "coordinates_from = coordinates.rename(columns={\n",
    "    'id':'from_place',\n",
    "    'latitude': 'from_latitude',\n",
    "    'longitude': 'from_longitude',\n",
    "    'name': 'from_place_name'\n",
    "})[['from_place', 'from_latitude', 'from_longitude', 'from_place_name']]\n",
    "coordinates_to = coordinates.rename(columns={\n",
    "    'id':'to_place',\n",
    "    'latitude': 'to_latitude',\n",
    "    'longitude': 'to_longitude',\n",
    "    'name': 'to_place_name'\n",
    "})[['to_place', 'to_latitude', 'to_longitude', 'to_place_name']]\n",
    "\n",
    "df.drop(['from_latitude', 'from_longitude', 'from_place_name', \n",
    "         'to_latitude', 'to_longitude', 'to_place_name'], inplace=True, axis=1)\n",
    "df = df.merge(coordinates_from, on='from_place', how='left')\n",
    "df = df.merge(coordinates_to, on='to_place', how='left')"
   ]
  },
  {
   "cell_type": "code",
   "execution_count": 25,
   "metadata": {},
   "outputs": [],
   "source": [
    "df = df[['person', 'from_place', 'from_latitude', 'from_longitude', 'from_place_name', 'from_year', \n",
    "        'to_place', 'to_latitude', 'to_longitude', 'to_place_name', 'to_year']]"
   ]
  },
  {
   "cell_type": "code",
   "execution_count": 26,
   "metadata": {},
   "outputs": [
    {
     "data": {
      "text/html": [
       "<div>\n",
       "<style scoped>\n",
       "    .dataframe tbody tr th:only-of-type {\n",
       "        vertical-align: middle;\n",
       "    }\n",
       "\n",
       "    .dataframe tbody tr th {\n",
       "        vertical-align: top;\n",
       "    }\n",
       "\n",
       "    .dataframe thead th {\n",
       "        text-align: right;\n",
       "    }\n",
       "</style>\n",
       "<table border=\"1\" class=\"dataframe\">\n",
       "  <thead>\n",
       "    <tr style=\"text-align: right;\">\n",
       "      <th></th>\n",
       "      <th>person</th>\n",
       "      <th>from_place</th>\n",
       "      <th>from_latitude</th>\n",
       "      <th>from_longitude</th>\n",
       "      <th>from_place_name</th>\n",
       "      <th>from_year</th>\n",
       "      <th>to_place</th>\n",
       "      <th>to_latitude</th>\n",
       "      <th>to_longitude</th>\n",
       "      <th>to_place_name</th>\n",
       "      <th>to_year</th>\n",
       "    </tr>\n",
       "  </thead>\n",
       "  <tbody>\n",
       "    <tr>\n",
       "      <th>1</th>\n",
       "      <td>37097</td>\n",
       "      <td>4872</td>\n",
       "      <td>49.470735</td>\n",
       "      <td>143.710445</td>\n",
       "      <td>Речное</td>\n",
       "      <td>1952</td>\n",
       "      <td>4864</td>\n",
       "      <td>49.238800</td>\n",
       "      <td>143.107800</td>\n",
       "      <td>Поронайск</td>\n",
       "      <td>2017</td>\n",
       "    </tr>\n",
       "    <tr>\n",
       "      <th>2</th>\n",
       "      <td>37106</td>\n",
       "      <td>4874</td>\n",
       "      <td>46.632500</td>\n",
       "      <td>142.797700</td>\n",
       "      <td>Корсаков</td>\n",
       "      <td>1942</td>\n",
       "      <td>4864</td>\n",
       "      <td>49.238800</td>\n",
       "      <td>143.107800</td>\n",
       "      <td>Поронайск</td>\n",
       "      <td>2017</td>\n",
       "    </tr>\n",
       "    <tr>\n",
       "      <th>3</th>\n",
       "      <td>37115</td>\n",
       "      <td>4877</td>\n",
       "      <td>49.305800</td>\n",
       "      <td>143.735800</td>\n",
       "      <td>пос. Нева</td>\n",
       "      <td>1955</td>\n",
       "      <td>4864</td>\n",
       "      <td>49.238800</td>\n",
       "      <td>143.107800</td>\n",
       "      <td>Поронайск</td>\n",
       "      <td>2017</td>\n",
       "    </tr>\n",
       "    <tr>\n",
       "      <th>4</th>\n",
       "      <td>37124</td>\n",
       "      <td>4880</td>\n",
       "      <td>52.340278</td>\n",
       "      <td>143.065000</td>\n",
       "      <td>пос. Вал</td>\n",
       "      <td>1957</td>\n",
       "      <td>4864</td>\n",
       "      <td>49.238800</td>\n",
       "      <td>143.107800</td>\n",
       "      <td>Поронайск</td>\n",
       "      <td>2017</td>\n",
       "    </tr>\n",
       "    <tr>\n",
       "      <th>5</th>\n",
       "      <td>37151</td>\n",
       "      <td>4884</td>\n",
       "      <td>48.201700</td>\n",
       "      <td>142.540346</td>\n",
       "      <td>Пугачево</td>\n",
       "      <td>1965</td>\n",
       "      <td>4864</td>\n",
       "      <td>49.238800</td>\n",
       "      <td>143.107800</td>\n",
       "      <td>Поронайск</td>\n",
       "      <td>2017</td>\n",
       "    </tr>\n",
       "    <tr>\n",
       "      <th>...</th>\n",
       "      <td>...</td>\n",
       "      <td>...</td>\n",
       "      <td>...</td>\n",
       "      <td>...</td>\n",
       "      <td>...</td>\n",
       "      <td>...</td>\n",
       "      <td>...</td>\n",
       "      <td>...</td>\n",
       "      <td>...</td>\n",
       "      <td>...</td>\n",
       "      <td>...</td>\n",
       "    </tr>\n",
       "    <tr>\n",
       "      <th>1336</th>\n",
       "      <td>41350</td>\n",
       "      <td>5458</td>\n",
       "      <td>52.315000</td>\n",
       "      <td>109.868200</td>\n",
       "      <td>Алан</td>\n",
       "      <td>1905</td>\n",
       "      <td>5454</td>\n",
       "      <td>53.578890</td>\n",
       "      <td>105.990560</td>\n",
       "      <td>совхоз Фрунзе, улус Степно-Болтай, Качугский р-н</td>\n",
       "      <td>1935</td>\n",
       "    </tr>\n",
       "    <tr>\n",
       "      <th>1337</th>\n",
       "      <td>41352</td>\n",
       "      <td>5459</td>\n",
       "      <td>53.302086</td>\n",
       "      <td>106.001114</td>\n",
       "      <td>пос. Кайзаран</td>\n",
       "      <td>1875</td>\n",
       "      <td>5457</td>\n",
       "      <td>53.302086</td>\n",
       "      <td>106.001114</td>\n",
       "      <td>пос. Кайзаран</td>\n",
       "      <td>1905</td>\n",
       "    </tr>\n",
       "    <tr>\n",
       "      <th>1338</th>\n",
       "      <td>41364</td>\n",
       "      <td>5461</td>\n",
       "      <td>56.005200</td>\n",
       "      <td>71.508200</td>\n",
       "      <td>Крутинка</td>\n",
       "      <td>1944</td>\n",
       "      <td>3179</td>\n",
       "      <td>53.961200</td>\n",
       "      <td>105.879900</td>\n",
       "      <td>Качуг</td>\n",
       "      <td>1974</td>\n",
       "    </tr>\n",
       "    <tr>\n",
       "      <th>1339</th>\n",
       "      <td>41363</td>\n",
       "      <td>5210</td>\n",
       "      <td>52.230105</td>\n",
       "      <td>81.089545</td>\n",
       "      <td>Алтайский край</td>\n",
       "      <td>1944</td>\n",
       "      <td>3179</td>\n",
       "      <td>53.961200</td>\n",
       "      <td>105.879900</td>\n",
       "      <td>Качуг</td>\n",
       "      <td>1974</td>\n",
       "    </tr>\n",
       "    <tr>\n",
       "      <th>1340</th>\n",
       "      <td>41366</td>\n",
       "      <td>4878</td>\n",
       "      <td>50.285030</td>\n",
       "      <td>142.897231</td>\n",
       "      <td>Сахалин</td>\n",
       "      <td>1914</td>\n",
       "      <td>5210</td>\n",
       "      <td>52.230105</td>\n",
       "      <td>81.089545</td>\n",
       "      <td>Алтайский край</td>\n",
       "      <td>1944</td>\n",
       "    </tr>\n",
       "  </tbody>\n",
       "</table>\n",
       "<p>1083 rows × 11 columns</p>\n",
       "</div>"
      ],
      "text/plain": [
       "      person  from_place  from_latitude  from_longitude from_place_name  \\\n",
       "1      37097        4872      49.470735      143.710445          Речное   \n",
       "2      37106        4874      46.632500      142.797700        Корсаков   \n",
       "3      37115        4877      49.305800      143.735800       пос. Нева   \n",
       "4      37124        4880      52.340278      143.065000        пос. Вал   \n",
       "5      37151        4884      48.201700      142.540346        Пугачево   \n",
       "...      ...         ...            ...             ...             ...   \n",
       "1336   41350        5458      52.315000      109.868200            Алан   \n",
       "1337   41352        5459      53.302086      106.001114   пос. Кайзаран   \n",
       "1338   41364        5461      56.005200       71.508200        Крутинка   \n",
       "1339   41363        5210      52.230105       81.089545  Алтайский край   \n",
       "1340   41366        4878      50.285030      142.897231         Сахалин   \n",
       "\n",
       "      from_year  to_place  to_latitude  to_longitude  \\\n",
       "1          1952      4864    49.238800    143.107800   \n",
       "2          1942      4864    49.238800    143.107800   \n",
       "3          1955      4864    49.238800    143.107800   \n",
       "4          1957      4864    49.238800    143.107800   \n",
       "5          1965      4864    49.238800    143.107800   \n",
       "...         ...       ...          ...           ...   \n",
       "1336       1905      5454    53.578890    105.990560   \n",
       "1337       1875      5457    53.302086    106.001114   \n",
       "1338       1944      3179    53.961200    105.879900   \n",
       "1339       1944      3179    53.961200    105.879900   \n",
       "1340       1914      5210    52.230105     81.089545   \n",
       "\n",
       "                                         to_place_name  to_year  \n",
       "1                                            Поронайск     2017  \n",
       "2                                            Поронайск     2017  \n",
       "3                                            Поронайск     2017  \n",
       "4                                            Поронайск     2017  \n",
       "5                                            Поронайск     2017  \n",
       "...                                                ...      ...  \n",
       "1336  совхоз Фрунзе, улус Степно-Болтай, Качугский р-н     1935  \n",
       "1337                                     пос. Кайзаран     1905  \n",
       "1338                                             Качуг     1974  \n",
       "1339                                             Качуг     1974  \n",
       "1340                                    Алтайский край     1944  \n",
       "\n",
       "[1083 rows x 11 columns]"
      ]
     },
     "execution_count": 26,
     "metadata": {},
     "output_type": "execute_result"
    }
   ],
   "source": [
    "df[(df['from_latitude'].isna() == False)\n",
    "  &(df['to_longitude'].isna() == False)]"
   ]
  },
  {
   "cell_type": "code",
   "execution_count": 27,
   "metadata": {},
   "outputs": [
    {
     "data": {
      "text/plain": [
       "(1083,)"
      ]
     },
     "execution_count": 27,
     "metadata": {},
     "output_type": "execute_result"
    }
   ],
   "source": [
    "df[(df['from_latitude'].isna() == False)\n",
    "  &(df['to_longitude'].isna() == False)]['person'].unique().shape"
   ]
  },
  {
   "cell_type": "markdown",
   "metadata": {},
   "source": [
    "### Дополнительная информация\n",
    "Хотим выгрузить информацию о годах рождения респондентов."
   ]
  },
  {
   "cell_type": "code",
   "execution_count": 35,
   "metadata": {},
   "outputs": [
    {
     "data": {
      "text/plain": [
       "1083"
      ]
     },
     "execution_count": 35,
     "metadata": {},
     "output_type": "execute_result"
    }
   ],
   "source": [
    "people = df[(df['from_latitude'].isna() == False)\n",
    "  &(df['to_longitude'].isna() == False)]['person'].unique().tolist()\n",
    "people = [str(i) for i in people]\n",
    "len(people)"
   ]
  },
  {
   "cell_type": "code",
   "execution_count": 41,
   "metadata": {},
   "outputs": [],
   "source": [
    "people_df = pd.read_sql(\"\"\"\n",
    "SELECT id, year_born\n",
    "FROM analytic_person_places\n",
    "WHERE id IN ('{}')\n",
    "\"\"\".format(\"', '\".join(people)), conn)"
   ]
  },
  {
   "cell_type": "code",
   "execution_count": 42,
   "metadata": {},
   "outputs": [
    {
     "data": {
      "text/html": [
       "<div>\n",
       "<style scoped>\n",
       "    .dataframe tbody tr th:only-of-type {\n",
       "        vertical-align: middle;\n",
       "    }\n",
       "\n",
       "    .dataframe tbody tr th {\n",
       "        vertical-align: top;\n",
       "    }\n",
       "\n",
       "    .dataframe thead th {\n",
       "        text-align: right;\n",
       "    }\n",
       "</style>\n",
       "<table border=\"1\" class=\"dataframe\">\n",
       "  <thead>\n",
       "    <tr style=\"text-align: right;\">\n",
       "      <th></th>\n",
       "      <th>id</th>\n",
       "      <th>year_born</th>\n",
       "    </tr>\n",
       "  </thead>\n",
       "  <tbody>\n",
       "  </tbody>\n",
       "</table>\n",
       "</div>"
      ],
      "text/plain": [
       "Empty DataFrame\n",
       "Columns: [id, year_born]\n",
       "Index: []"
      ]
     },
     "execution_count": 42,
     "metadata": {},
     "output_type": "execute_result"
    }
   ],
   "source": [
    "people_df[people_df['year_born'].isna()]"
   ]
  },
  {
   "cell_type": "code",
   "execution_count": 45,
   "metadata": {},
   "outputs": [],
   "source": [
    "people_df.to_excel('people_year_born.xlsx', index=False)"
   ]
  }
 ],
 "metadata": {
  "kernelspec": {
   "display_name": "Python 3",
   "language": "python",
   "name": "python3"
  },
  "language_info": {
   "codemirror_mode": {
    "name": "ipython",
    "version": 3
   },
   "file_extension": ".py",
   "mimetype": "text/x-python",
   "name": "python",
   "nbconvert_exporter": "python",
   "pygments_lexer": "ipython3",
   "version": "3.8.3"
  }
 },
 "nbformat": 4,
 "nbformat_minor": 4
}
